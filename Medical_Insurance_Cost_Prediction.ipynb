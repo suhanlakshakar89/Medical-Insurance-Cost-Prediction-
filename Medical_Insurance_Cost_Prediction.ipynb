{
 "cells": [
  {
   "cell_type": "code",
   "execution_count": 6,
   "id": "56a0701e-d502-40f0-953a-cb4d652d1874",
   "metadata": {},
   "outputs": [],
   "source": [
    "import pandas as pd \n",
    "import numpy as np \n",
    "import matplotlib.pyplot as plt   \n",
    "import seaborn as sns\n",
    "import sklearn as an \n"
   ]
  },
  {
   "cell_type": "code",
   "execution_count": 7,
   "id": "a3d1a723-33f8-48a4-97fa-b79802eefbc9",
   "metadata": {},
   "outputs": [],
   "source": [
    "import seaborn as sns"
   ]
  },
  {
   "cell_type": "code",
   "execution_count": 156,
   "id": "165d3603-5aae-4656-9059-b9bf19327add",
   "metadata": {},
   "outputs": [
    {
     "data": {
      "text/html": [
       "<div>\n",
       "<style scoped>\n",
       "    .dataframe tbody tr th:only-of-type {\n",
       "        vertical-align: middle;\n",
       "    }\n",
       "\n",
       "    .dataframe tbody tr th {\n",
       "        vertical-align: top;\n",
       "    }\n",
       "\n",
       "    .dataframe thead th {\n",
       "        text-align: right;\n",
       "    }\n",
       "</style>\n",
       "<table border=\"1\" class=\"dataframe\">\n",
       "  <thead>\n",
       "    <tr style=\"text-align: right;\">\n",
       "      <th></th>\n",
       "      <th>age</th>\n",
       "      <th>sex</th>\n",
       "      <th>bmi</th>\n",
       "      <th>children</th>\n",
       "      <th>smoker</th>\n",
       "      <th>region</th>\n",
       "      <th>charges</th>\n",
       "    </tr>\n",
       "  </thead>\n",
       "  <tbody>\n",
       "    <tr>\n",
       "      <th>0</th>\n",
       "      <td>19</td>\n",
       "      <td>female</td>\n",
       "      <td>27.900</td>\n",
       "      <td>0</td>\n",
       "      <td>yes</td>\n",
       "      <td>southwest</td>\n",
       "      <td>16884.92400</td>\n",
       "    </tr>\n",
       "    <tr>\n",
       "      <th>1</th>\n",
       "      <td>18</td>\n",
       "      <td>male</td>\n",
       "      <td>33.770</td>\n",
       "      <td>1</td>\n",
       "      <td>no</td>\n",
       "      <td>southeast</td>\n",
       "      <td>1725.55230</td>\n",
       "    </tr>\n",
       "    <tr>\n",
       "      <th>2</th>\n",
       "      <td>28</td>\n",
       "      <td>male</td>\n",
       "      <td>33.000</td>\n",
       "      <td>3</td>\n",
       "      <td>no</td>\n",
       "      <td>southeast</td>\n",
       "      <td>4449.46200</td>\n",
       "    </tr>\n",
       "    <tr>\n",
       "      <th>3</th>\n",
       "      <td>33</td>\n",
       "      <td>male</td>\n",
       "      <td>22.705</td>\n",
       "      <td>0</td>\n",
       "      <td>no</td>\n",
       "      <td>northwest</td>\n",
       "      <td>21984.47061</td>\n",
       "    </tr>\n",
       "    <tr>\n",
       "      <th>4</th>\n",
       "      <td>32</td>\n",
       "      <td>male</td>\n",
       "      <td>28.880</td>\n",
       "      <td>0</td>\n",
       "      <td>no</td>\n",
       "      <td>northwest</td>\n",
       "      <td>3866.85520</td>\n",
       "    </tr>\n",
       "    <tr>\n",
       "      <th>...</th>\n",
       "      <td>...</td>\n",
       "      <td>...</td>\n",
       "      <td>...</td>\n",
       "      <td>...</td>\n",
       "      <td>...</td>\n",
       "      <td>...</td>\n",
       "      <td>...</td>\n",
       "    </tr>\n",
       "    <tr>\n",
       "      <th>1333</th>\n",
       "      <td>50</td>\n",
       "      <td>male</td>\n",
       "      <td>30.970</td>\n",
       "      <td>3</td>\n",
       "      <td>no</td>\n",
       "      <td>northwest</td>\n",
       "      <td>10600.54830</td>\n",
       "    </tr>\n",
       "    <tr>\n",
       "      <th>1334</th>\n",
       "      <td>18</td>\n",
       "      <td>female</td>\n",
       "      <td>31.920</td>\n",
       "      <td>0</td>\n",
       "      <td>no</td>\n",
       "      <td>northeast</td>\n",
       "      <td>2205.98080</td>\n",
       "    </tr>\n",
       "    <tr>\n",
       "      <th>1335</th>\n",
       "      <td>18</td>\n",
       "      <td>female</td>\n",
       "      <td>36.850</td>\n",
       "      <td>0</td>\n",
       "      <td>no</td>\n",
       "      <td>southeast</td>\n",
       "      <td>1629.83350</td>\n",
       "    </tr>\n",
       "    <tr>\n",
       "      <th>1336</th>\n",
       "      <td>21</td>\n",
       "      <td>female</td>\n",
       "      <td>25.800</td>\n",
       "      <td>0</td>\n",
       "      <td>no</td>\n",
       "      <td>southwest</td>\n",
       "      <td>2007.94500</td>\n",
       "    </tr>\n",
       "    <tr>\n",
       "      <th>1337</th>\n",
       "      <td>61</td>\n",
       "      <td>female</td>\n",
       "      <td>29.070</td>\n",
       "      <td>0</td>\n",
       "      <td>yes</td>\n",
       "      <td>northwest</td>\n",
       "      <td>29141.36030</td>\n",
       "    </tr>\n",
       "  </tbody>\n",
       "</table>\n",
       "<p>1338 rows × 7 columns</p>\n",
       "</div>"
      ],
      "text/plain": [
       "      age     sex     bmi  children smoker     region      charges\n",
       "0      19  female  27.900         0    yes  southwest  16884.92400\n",
       "1      18    male  33.770         1     no  southeast   1725.55230\n",
       "2      28    male  33.000         3     no  southeast   4449.46200\n",
       "3      33    male  22.705         0     no  northwest  21984.47061\n",
       "4      32    male  28.880         0     no  northwest   3866.85520\n",
       "...   ...     ...     ...       ...    ...        ...          ...\n",
       "1333   50    male  30.970         3     no  northwest  10600.54830\n",
       "1334   18  female  31.920         0     no  northeast   2205.98080\n",
       "1335   18  female  36.850         0     no  southeast   1629.83350\n",
       "1336   21  female  25.800         0     no  southwest   2007.94500\n",
       "1337   61  female  29.070         0    yes  northwest  29141.36030\n",
       "\n",
       "[1338 rows x 7 columns]"
      ]
     },
     "execution_count": 156,
     "metadata": {},
     "output_type": "execute_result"
    }
   ],
   "source": [
    "medical = pd.read_csv('cost_prediction.csv')\n",
    "medical \n"
   ]
  },
  {
   "cell_type": "code",
   "execution_count": 157,
   "id": "220f8d7e-a702-4dd8-9ff2-bfeb657eddf8",
   "metadata": {},
   "outputs": [
    {
     "data": {
      "text/plain": [
       "(1338, 7)"
      ]
     },
     "execution_count": 157,
     "metadata": {},
     "output_type": "execute_result"
    }
   ],
   "source": [
    "medical.shape"
   ]
  },
  {
   "cell_type": "code",
   "execution_count": 158,
   "id": "0e3685dc-2a6b-4155-a35a-d5607560dbba",
   "metadata": {},
   "outputs": [
    {
     "data": {
      "text/plain": [
       "age         0\n",
       "sex         0\n",
       "bmi         0\n",
       "children    0\n",
       "smoker      0\n",
       "region      0\n",
       "charges     0\n",
       "dtype: int64"
      ]
     },
     "execution_count": 158,
     "metadata": {},
     "output_type": "execute_result"
    }
   ],
   "source": [
    "medical.isnull().sum()"
   ]
  },
  {
   "cell_type": "code",
   "execution_count": 159,
   "id": "d4e7eb09-2aee-4654-a2a0-fa9d86252e70",
   "metadata": {},
   "outputs": [
    {
     "name": "stdout",
     "output_type": "stream",
     "text": [
      "<class 'pandas.core.frame.DataFrame'>\n",
      "RangeIndex: 1338 entries, 0 to 1337\n",
      "Data columns (total 7 columns):\n",
      " #   Column    Non-Null Count  Dtype  \n",
      "---  ------    --------------  -----  \n",
      " 0   age       1338 non-null   int64  \n",
      " 1   sex       1338 non-null   object \n",
      " 2   bmi       1338 non-null   float64\n",
      " 3   children  1338 non-null   int64  \n",
      " 4   smoker    1338 non-null   object \n",
      " 5   region    1338 non-null   object \n",
      " 6   charges   1338 non-null   float64\n",
      "dtypes: float64(2), int64(2), object(3)\n",
      "memory usage: 73.3+ KB\n"
     ]
    }
   ],
   "source": [
    "medical.info()"
   ]
  },
  {
   "cell_type": "code",
   "execution_count": 160,
   "id": "4f3a7e83-b02f-407d-9556-fae2258cff08",
   "metadata": {},
   "outputs": [
    {
     "data": {
      "text/html": [
       "<div>\n",
       "<style scoped>\n",
       "    .dataframe tbody tr th:only-of-type {\n",
       "        vertical-align: middle;\n",
       "    }\n",
       "\n",
       "    .dataframe tbody tr th {\n",
       "        vertical-align: top;\n",
       "    }\n",
       "\n",
       "    .dataframe thead th {\n",
       "        text-align: right;\n",
       "    }\n",
       "</style>\n",
       "<table border=\"1\" class=\"dataframe\">\n",
       "  <thead>\n",
       "    <tr style=\"text-align: right;\">\n",
       "      <th></th>\n",
       "      <th>age</th>\n",
       "      <th>bmi</th>\n",
       "      <th>children</th>\n",
       "      <th>charges</th>\n",
       "    </tr>\n",
       "  </thead>\n",
       "  <tbody>\n",
       "    <tr>\n",
       "      <th>count</th>\n",
       "      <td>1338.000000</td>\n",
       "      <td>1338.000000</td>\n",
       "      <td>1338.000000</td>\n",
       "      <td>1338.000000</td>\n",
       "    </tr>\n",
       "    <tr>\n",
       "      <th>mean</th>\n",
       "      <td>39.207025</td>\n",
       "      <td>30.663397</td>\n",
       "      <td>1.094918</td>\n",
       "      <td>13270.422265</td>\n",
       "    </tr>\n",
       "    <tr>\n",
       "      <th>std</th>\n",
       "      <td>14.049960</td>\n",
       "      <td>6.098187</td>\n",
       "      <td>1.205493</td>\n",
       "      <td>12110.011237</td>\n",
       "    </tr>\n",
       "    <tr>\n",
       "      <th>min</th>\n",
       "      <td>18.000000</td>\n",
       "      <td>15.960000</td>\n",
       "      <td>0.000000</td>\n",
       "      <td>1121.873900</td>\n",
       "    </tr>\n",
       "    <tr>\n",
       "      <th>25%</th>\n",
       "      <td>27.000000</td>\n",
       "      <td>26.296250</td>\n",
       "      <td>0.000000</td>\n",
       "      <td>4740.287150</td>\n",
       "    </tr>\n",
       "    <tr>\n",
       "      <th>50%</th>\n",
       "      <td>39.000000</td>\n",
       "      <td>30.400000</td>\n",
       "      <td>1.000000</td>\n",
       "      <td>9382.033000</td>\n",
       "    </tr>\n",
       "    <tr>\n",
       "      <th>75%</th>\n",
       "      <td>51.000000</td>\n",
       "      <td>34.693750</td>\n",
       "      <td>2.000000</td>\n",
       "      <td>16639.912515</td>\n",
       "    </tr>\n",
       "    <tr>\n",
       "      <th>max</th>\n",
       "      <td>64.000000</td>\n",
       "      <td>53.130000</td>\n",
       "      <td>5.000000</td>\n",
       "      <td>63770.428010</td>\n",
       "    </tr>\n",
       "  </tbody>\n",
       "</table>\n",
       "</div>"
      ],
      "text/plain": [
       "               age          bmi     children       charges\n",
       "count  1338.000000  1338.000000  1338.000000   1338.000000\n",
       "mean     39.207025    30.663397     1.094918  13270.422265\n",
       "std      14.049960     6.098187     1.205493  12110.011237\n",
       "min      18.000000    15.960000     0.000000   1121.873900\n",
       "25%      27.000000    26.296250     0.000000   4740.287150\n",
       "50%      39.000000    30.400000     1.000000   9382.033000\n",
       "75%      51.000000    34.693750     2.000000  16639.912515\n",
       "max      64.000000    53.130000     5.000000  63770.428010"
      ]
     },
     "execution_count": 160,
     "metadata": {},
     "output_type": "execute_result"
    }
   ],
   "source": [
    "medical.describe()"
   ]
  },
  {
   "cell_type": "code",
   "execution_count": 161,
   "id": "e5164d6b-811b-4ef4-9a4b-bb340454280a",
   "metadata": {},
   "outputs": [
    {
     "name": "stderr",
     "output_type": "stream",
     "text": [
      "C:\\Users\\HP\\AppData\\Local\\Temp\\ipykernel_55564\\3704784687.py:3: UserWarning: \n",
      "\n",
      "`distplot` is a deprecated function and will be removed in seaborn v0.14.0.\n",
      "\n",
      "Please adapt your code to use either `displot` (a figure-level function with\n",
      "similar flexibility) or `histplot` (an axes-level function for histograms).\n",
      "\n",
      "For a guide to updating your code to use the new functions, please see\n",
      "https://gist.github.com/mwaskom/de44147ed2974457ad6372750bbe5751\n",
      "\n",
      "  sns.distplot(medical['age'])\n"
     ]
    },
    {
     "data": {
      "image/png": "[encoded data removed]",
      "text/plain": [
       "<Figure size 600x600 with 1 Axes>"
      ]
     },
     "metadata": {},
     "output_type": "display_data"
    }
   ],
   "source": [
    "sns.set()\n",
    "plt.figure(figsize=(6,6))\n",
    "sns.distplot(medical['age'])\n",
    "plt.title('Age_distribution')\n",
    "plt.show()"
   ]
  },
  {
   "cell_type": "code",
   "execution_count": 162,
   "id": "27e49cff-0e90-4e8b-8f55-9d86eef9f57a",
   "metadata": {},
   "outputs": [
    {
     "data": {
      "image/png": "[encoded data removed]",
      "text/plain": [
       "<Figure size 600x600 with 1 Axes>"
      ]
     },
     "metadata": {},
     "output_type": "display_data"
    }
   ],
   "source": [
    "plt.figure(figsize=(6,6))\n",
    "sns.countplot(x = 'sex' , data=medical)\n",
    "plt.title('Sex_Distribution')\n",
    "plt.show()"
   ]
  },
  {
   "cell_type": "code",
   "execution_count": 163,
   "id": "9c2885c4-7011-4254-bb18-c49b5e30bdf3",
   "metadata": {},
   "outputs": [
    {
     "data": {
      "text/plain": [
       "sex\n",
       "male      676\n",
       "female    662\n",
       "Name: count, dtype: int64"
      ]
     },
     "execution_count": 163,
     "metadata": {},
     "output_type": "execute_result"
    }
   ],
   "source": [
    "medical['sex'].value_counts()"
   ]
  },
  {
   "cell_type": "code",
   "execution_count": 164,
   "id": "0159dbcd-7487-430f-adb4-f826535584f4",
   "metadata": {},
   "outputs": [
    {
     "name": "stderr",
     "output_type": "stream",
     "text": [
      "C:\\Users\\HP\\AppData\\Local\\Temp\\ipykernel_55564\\1925884531.py:3: UserWarning: \n",
      "\n",
      "`distplot` is a deprecated function and will be removed in seaborn v0.14.0.\n",
      "\n",
      "Please adapt your code to use either `displot` (a figure-level function with\n",
      "similar flexibility) or `histplot` (an axes-level function for histograms).\n",
      "\n",
      "For a guide to updating your code to use the new functions, please see\n",
      "https://gist.github.com/mwaskom/de44147ed2974457ad6372750bbe5751\n",
      "\n",
      "  sns.distplot(medical['bmi'])\n"
     ]
    },
    {
     "data": {
      "image/png": "[encoded data removed]",
      "text/plain": [
       "<Figure size 600x600 with 1 Axes>"
      ]
     },
     "metadata": {},
     "output_type": "display_data"
    }
   ],
   "source": [
    "sns.set()\n",
    "plt.figure(figsize=(6,6))\n",
    "sns.distplot(medical['bmi'])\n",
    "plt.title('Age_distribution')\n",
    "plt.show()"
   ]
  },
  {
   "cell_type": "code",
   "execution_count": 165,
   "id": "3c220472-47c5-463b-8d65-83b8f7aac10a",
   "metadata": {},
   "outputs": [
    {
     "data": {
      "image/png": "[encoded data removed]",
      "text/plain": [
       "<Figure size 600x600 with 1 Axes>"
      ]
     },
     "metadata": {},
     "output_type": "display_data"
    }
   ],
   "source": [
    "plt.figure(figsize=(6,6))\n",
    "sns.countplot(x = 'children' , data=medical)\n",
    "plt.title('Childrens')\n",
    "plt.show()"
   ]
  },
  {
   "cell_type": "code",
   "execution_count": 166,
   "id": "12e72fc9-a7e5-4118-a3a7-ee1db29cd06d",
   "metadata": {},
   "outputs": [
    {
     "data": {
      "text/plain": [
       "children\n",
       "0    574\n",
       "1    324\n",
       "2    240\n",
       "3    157\n",
       "4     25\n",
       "5     18\n",
       "Name: count, dtype: int64"
      ]
     },
     "execution_count": 166,
     "metadata": {},
     "output_type": "execute_result"
    }
   ],
   "source": [
    "medical['children'].value_counts()"
   ]
  },
  {
   "cell_type": "code",
   "execution_count": 167,
   "id": "cc4c18b8-cd24-4339-add4-a85f66c5ec4a",
   "metadata": {},
   "outputs": [
    {
     "data": {
      "image/png": "[encoded data removed]",
      "text/plain": [
       "<Figure size 600x600 with 1 Axes>"
      ]
     },
     "metadata": {},
     "output_type": "display_data"
    }
   ],
   "source": [
    "plt.figure(figsize=(6,6))\n",
    "sns.countplot(x = 'smoker' , data=medical)\n",
    "plt.title('Ratio_of_Smoker')\n",
    "plt.show()"
   ]
  },
  {
   "cell_type": "code",
   "execution_count": 168,
   "id": "20b0a98c-0a99-4a61-88c7-5c3f05ae37cc",
   "metadata": {},
   "outputs": [
    {
     "data": {
      "text/plain": [
       "smoker\n",
       "no     1064\n",
       "yes     274\n",
       "Name: count, dtype: int64"
      ]
     },
     "execution_count": 168,
     "metadata": {},
     "output_type": "execute_result"
    }
   ],
   "source": [
    "medical['smoker'].value_counts()"
   ]
  },
  {
   "cell_type": "code",
   "execution_count": 169,
   "id": "3745f9d2-fe21-4c54-a423-65c56d8e030e",
   "metadata": {},
   "outputs": [
    {
     "data": {
      "image/png": "[encoded data removed]",
      "text/plain": [
       "<Figure size 600x600 with 1 Axes>"
      ]
     },
     "metadata": {},
     "output_type": "display_data"
    }
   ],
   "source": [
    "plt.figure(figsize=(6,6))\n",
    "sns.countplot(x = 'region' , data=medical)\n",
    "plt.title('Region_distribution')\n",
    "plt.show()"
   ]
  },
  {
   "cell_type": "code",
   "execution_count": 170,
   "id": "69685199-a100-4814-9e97-9cee9c4d2ca5",
   "metadata": {},
   "outputs": [
    {
     "data": {
      "text/plain": [
       "region\n",
       "southeast    364\n",
       "southwest    325\n",
       "northwest    325\n",
       "northeast    324\n",
       "Name: count, dtype: int64"
      ]
     },
     "execution_count": 170,
     "metadata": {},
     "output_type": "execute_result"
    }
   ],
   "source": [
    "medical['region'].value_counts()"
   ]
  },
  {
   "cell_type": "code",
   "execution_count": 171,
   "id": "48187dc5-b8ef-4276-94b9-ea54feb0dec4",
   "metadata": {},
   "outputs": [
    {
     "data": {
      "text/html": [
       "<div>\n",
       "<style scoped>\n",
       "    .dataframe tbody tr th:only-of-type {\n",
       "        vertical-align: middle;\n",
       "    }\n",
       "\n",
       "    .dataframe tbody tr th {\n",
       "        vertical-align: top;\n",
       "    }\n",
       "\n",
       "    .dataframe thead th {\n",
       "        text-align: right;\n",
       "    }\n",
       "</style>\n",
       "<table border=\"1\" class=\"dataframe\">\n",
       "  <thead>\n",
       "    <tr style=\"text-align: right;\">\n",
       "      <th></th>\n",
       "      <th>age</th>\n",
       "      <th>sex</th>\n",
       "      <th>bmi</th>\n",
       "      <th>children</th>\n",
       "      <th>smoker</th>\n",
       "      <th>region</th>\n",
       "      <th>charges</th>\n",
       "      <th>Sex</th>\n",
       "      <th>Smoker</th>\n",
       "    </tr>\n",
       "  </thead>\n",
       "  <tbody>\n",
       "    <tr>\n",
       "      <th>0</th>\n",
       "      <td>19</td>\n",
       "      <td>female</td>\n",
       "      <td>27.900</td>\n",
       "      <td>0</td>\n",
       "      <td>yes</td>\n",
       "      <td>southwest</td>\n",
       "      <td>16884.92400</td>\n",
       "      <td>1</td>\n",
       "      <td>0</td>\n",
       "    </tr>\n",
       "    <tr>\n",
       "      <th>1</th>\n",
       "      <td>18</td>\n",
       "      <td>male</td>\n",
       "      <td>33.770</td>\n",
       "      <td>1</td>\n",
       "      <td>no</td>\n",
       "      <td>southeast</td>\n",
       "      <td>1725.55230</td>\n",
       "      <td>0</td>\n",
       "      <td>1</td>\n",
       "    </tr>\n",
       "    <tr>\n",
       "      <th>2</th>\n",
       "      <td>28</td>\n",
       "      <td>male</td>\n",
       "      <td>33.000</td>\n",
       "      <td>3</td>\n",
       "      <td>no</td>\n",
       "      <td>southeast</td>\n",
       "      <td>4449.46200</td>\n",
       "      <td>0</td>\n",
       "      <td>1</td>\n",
       "    </tr>\n",
       "    <tr>\n",
       "      <th>3</th>\n",
       "      <td>33</td>\n",
       "      <td>male</td>\n",
       "      <td>22.705</td>\n",
       "      <td>0</td>\n",
       "      <td>no</td>\n",
       "      <td>northwest</td>\n",
       "      <td>21984.47061</td>\n",
       "      <td>0</td>\n",
       "      <td>1</td>\n",
       "    </tr>\n",
       "    <tr>\n",
       "      <th>4</th>\n",
       "      <td>32</td>\n",
       "      <td>male</td>\n",
       "      <td>28.880</td>\n",
       "      <td>0</td>\n",
       "      <td>no</td>\n",
       "      <td>northwest</td>\n",
       "      <td>3866.85520</td>\n",
       "      <td>0</td>\n",
       "      <td>1</td>\n",
       "    </tr>\n",
       "    <tr>\n",
       "      <th>...</th>\n",
       "      <td>...</td>\n",
       "      <td>...</td>\n",
       "      <td>...</td>\n",
       "      <td>...</td>\n",
       "      <td>...</td>\n",
       "      <td>...</td>\n",
       "      <td>...</td>\n",
       "      <td>...</td>\n",
       "      <td>...</td>\n",
       "    </tr>\n",
       "    <tr>\n",
       "      <th>1333</th>\n",
       "      <td>50</td>\n",
       "      <td>male</td>\n",
       "      <td>30.970</td>\n",
       "      <td>3</td>\n",
       "      <td>no</td>\n",
       "      <td>northwest</td>\n",
       "      <td>10600.54830</td>\n",
       "      <td>0</td>\n",
       "      <td>1</td>\n",
       "    </tr>\n",
       "    <tr>\n",
       "      <th>1334</th>\n",
       "      <td>18</td>\n",
       "      <td>female</td>\n",
       "      <td>31.920</td>\n",
       "      <td>0</td>\n",
       "      <td>no</td>\n",
       "      <td>northeast</td>\n",
       "      <td>2205.98080</td>\n",
       "      <td>1</td>\n",
       "      <td>1</td>\n",
       "    </tr>\n",
       "    <tr>\n",
       "      <th>1335</th>\n",
       "      <td>18</td>\n",
       "      <td>female</td>\n",
       "      <td>36.850</td>\n",
       "      <td>0</td>\n",
       "      <td>no</td>\n",
       "      <td>southeast</td>\n",
       "      <td>1629.83350</td>\n",
       "      <td>1</td>\n",
       "      <td>1</td>\n",
       "    </tr>\n",
       "    <tr>\n",
       "      <th>1336</th>\n",
       "      <td>21</td>\n",
       "      <td>female</td>\n",
       "      <td>25.800</td>\n",
       "      <td>0</td>\n",
       "      <td>no</td>\n",
       "      <td>southwest</td>\n",
       "      <td>2007.94500</td>\n",
       "      <td>1</td>\n",
       "      <td>1</td>\n",
       "    </tr>\n",
       "    <tr>\n",
       "      <th>1337</th>\n",
       "      <td>61</td>\n",
       "      <td>female</td>\n",
       "      <td>29.070</td>\n",
       "      <td>0</td>\n",
       "      <td>yes</td>\n",
       "      <td>northwest</td>\n",
       "      <td>29141.36030</td>\n",
       "      <td>1</td>\n",
       "      <td>0</td>\n",
       "    </tr>\n",
       "  </tbody>\n",
       "</table>\n",
       "<p>1338 rows × 9 columns</p>\n",
       "</div>"
      ],
      "text/plain": [
       "      age     sex     bmi  children smoker     region      charges  Sex  \\\n",
       "0      19  female  27.900         0    yes  southwest  16884.92400    1   \n",
       "1      18    male  33.770         1     no  southeast   1725.55230    0   \n",
       "2      28    male  33.000         3     no  southeast   4449.46200    0   \n",
       "3      33    male  22.705         0     no  northwest  21984.47061    0   \n",
       "4      32    male  28.880         0     no  northwest   3866.85520    0   \n",
       "...   ...     ...     ...       ...    ...        ...          ...  ...   \n",
       "1333   50    male  30.970         3     no  northwest  10600.54830    0   \n",
       "1334   18  female  31.920         0     no  northeast   2205.98080    1   \n",
       "1335   18  female  36.850         0     no  southeast   1629.83350    1   \n",
       "1336   21  female  25.800         0     no  southwest   2007.94500    1   \n",
       "1337   61  female  29.070         0    yes  northwest  29141.36030    1   \n",
       "\n",
       "      Smoker  \n",
       "0          0  \n",
       "1          1  \n",
       "2          1  \n",
       "3          1  \n",
       "4          1  \n",
       "...      ...  \n",
       "1333       1  \n",
       "1334       1  \n",
       "1335       1  \n",
       "1336       1  \n",
       "1337       0  \n",
       "\n",
       "[1338 rows x 9 columns]"
      ]
     },
     "execution_count": 171,
     "metadata": {},
     "output_type": "execute_result"
    }
   ],
   "source": [
    "medical['Sex'] = medical['sex'].apply(lambda x : 0 if x == 'male' else 1)\n",
    "medical['Smoker'] = medical['smoker'].apply(lambda x : 0 if x == 'yes' else 1) \n",
    "medical"
   ]
  },
  {
   "cell_type": "code",
   "execution_count": 172,
   "id": "d755cd36-52fb-4fc6-a3de-ac0c76afceda",
   "metadata": {},
   "outputs": [],
   "source": [
    "medical.replace({'region':{'southeast':0,'southwest':1,'northeast':2,'northwest':3}},inplace=True)"
   ]
  },
  {
   "cell_type": "code",
   "execution_count": 173,
   "id": "04b5b082-f993-4298-b43a-38dabaf98e7f",
   "metadata": {},
   "outputs": [
    {
     "data": {
      "text/html": [
       "<div>\n",
       "<style scoped>\n",
       "    .dataframe tbody tr th:only-of-type {\n",
       "        vertical-align: middle;\n",
       "    }\n",
       "\n",
       "    .dataframe tbody tr th {\n",
       "        vertical-align: top;\n",
       "    }\n",
       "\n",
       "    .dataframe thead th {\n",
       "        text-align: right;\n",
       "    }\n",
       "</style>\n",
       "<table border=\"1\" class=\"dataframe\">\n",
       "  <thead>\n",
       "    <tr style=\"text-align: right;\">\n",
       "      <th></th>\n",
       "      <th>age</th>\n",
       "      <th>sex</th>\n",
       "      <th>bmi</th>\n",
       "      <th>children</th>\n",
       "      <th>smoker</th>\n",
       "      <th>region</th>\n",
       "      <th>charges</th>\n",
       "      <th>Sex</th>\n",
       "      <th>Smoker</th>\n",
       "    </tr>\n",
       "  </thead>\n",
       "  <tbody>\n",
       "    <tr>\n",
       "      <th>0</th>\n",
       "      <td>19</td>\n",
       "      <td>female</td>\n",
       "      <td>27.900</td>\n",
       "      <td>0</td>\n",
       "      <td>yes</td>\n",
       "      <td>1</td>\n",
       "      <td>16884.92400</td>\n",
       "      <td>1</td>\n",
       "      <td>0</td>\n",
       "    </tr>\n",
       "    <tr>\n",
       "      <th>1</th>\n",
       "      <td>18</td>\n",
       "      <td>male</td>\n",
       "      <td>33.770</td>\n",
       "      <td>1</td>\n",
       "      <td>no</td>\n",
       "      <td>0</td>\n",
       "      <td>1725.55230</td>\n",
       "      <td>0</td>\n",
       "      <td>1</td>\n",
       "    </tr>\n",
       "    <tr>\n",
       "      <th>2</th>\n",
       "      <td>28</td>\n",
       "      <td>male</td>\n",
       "      <td>33.000</td>\n",
       "      <td>3</td>\n",
       "      <td>no</td>\n",
       "      <td>0</td>\n",
       "      <td>4449.46200</td>\n",
       "      <td>0</td>\n",
       "      <td>1</td>\n",
       "    </tr>\n",
       "    <tr>\n",
       "      <th>3</th>\n",
       "      <td>33</td>\n",
       "      <td>male</td>\n",
       "      <td>22.705</td>\n",
       "      <td>0</td>\n",
       "      <td>no</td>\n",
       "      <td>3</td>\n",
       "      <td>21984.47061</td>\n",
       "      <td>0</td>\n",
       "      <td>1</td>\n",
       "    </tr>\n",
       "    <tr>\n",
       "      <th>4</th>\n",
       "      <td>32</td>\n",
       "      <td>male</td>\n",
       "      <td>28.880</td>\n",
       "      <td>0</td>\n",
       "      <td>no</td>\n",
       "      <td>3</td>\n",
       "      <td>3866.85520</td>\n",
       "      <td>0</td>\n",
       "      <td>1</td>\n",
       "    </tr>\n",
       "    <tr>\n",
       "      <th>...</th>\n",
       "      <td>...</td>\n",
       "      <td>...</td>\n",
       "      <td>...</td>\n",
       "      <td>...</td>\n",
       "      <td>...</td>\n",
       "      <td>...</td>\n",
       "      <td>...</td>\n",
       "      <td>...</td>\n",
       "      <td>...</td>\n",
       "    </tr>\n",
       "    <tr>\n",
       "      <th>1333</th>\n",
       "      <td>50</td>\n",
       "      <td>male</td>\n",
       "      <td>30.970</td>\n",
       "      <td>3</td>\n",
       "      <td>no</td>\n",
       "      <td>3</td>\n",
       "      <td>10600.54830</td>\n",
       "      <td>0</td>\n",
       "      <td>1</td>\n",
       "    </tr>\n",
       "    <tr>\n",
       "      <th>1334</th>\n",
       "      <td>18</td>\n",
       "      <td>female</td>\n",
       "      <td>31.920</td>\n",
       "      <td>0</td>\n",
       "      <td>no</td>\n",
       "      <td>2</td>\n",
       "      <td>2205.98080</td>\n",
       "      <td>1</td>\n",
       "      <td>1</td>\n",
       "    </tr>\n",
       "    <tr>\n",
       "      <th>1335</th>\n",
       "      <td>18</td>\n",
       "      <td>female</td>\n",
       "      <td>36.850</td>\n",
       "      <td>0</td>\n",
       "      <td>no</td>\n",
       "      <td>0</td>\n",
       "      <td>1629.83350</td>\n",
       "      <td>1</td>\n",
       "      <td>1</td>\n",
       "    </tr>\n",
       "    <tr>\n",
       "      <th>1336</th>\n",
       "      <td>21</td>\n",
       "      <td>female</td>\n",
       "      <td>25.800</td>\n",
       "      <td>0</td>\n",
       "      <td>no</td>\n",
       "      <td>1</td>\n",
       "      <td>2007.94500</td>\n",
       "      <td>1</td>\n",
       "      <td>1</td>\n",
       "    </tr>\n",
       "    <tr>\n",
       "      <th>1337</th>\n",
       "      <td>61</td>\n",
       "      <td>female</td>\n",
       "      <td>29.070</td>\n",
       "      <td>0</td>\n",
       "      <td>yes</td>\n",
       "      <td>3</td>\n",
       "      <td>29141.36030</td>\n",
       "      <td>1</td>\n",
       "      <td>0</td>\n",
       "    </tr>\n",
       "  </tbody>\n",
       "</table>\n",
       "<p>1338 rows × 9 columns</p>\n",
       "</div>"
      ],
      "text/plain": [
       "      age     sex     bmi  children smoker  region      charges  Sex  Smoker\n",
       "0      19  female  27.900         0    yes       1  16884.92400    1       0\n",
       "1      18    male  33.770         1     no       0   1725.55230    0       1\n",
       "2      28    male  33.000         3     no       0   4449.46200    0       1\n",
       "3      33    male  22.705         0     no       3  21984.47061    0       1\n",
       "4      32    male  28.880         0     no       3   3866.85520    0       1\n",
       "...   ...     ...     ...       ...    ...     ...          ...  ...     ...\n",
       "1333   50    male  30.970         3     no       3  10600.54830    0       1\n",
       "1334   18  female  31.920         0     no       2   2205.98080    1       1\n",
       "1335   18  female  36.850         0     no       0   1629.83350    1       1\n",
       "1336   21  female  25.800         0     no       1   2007.94500    1       1\n",
       "1337   61  female  29.070         0    yes       3  29141.36030    1       0\n",
       "\n",
       "[1338 rows x 9 columns]"
      ]
     },
     "execution_count": 173,
     "metadata": {},
     "output_type": "execute_result"
    }
   ],
   "source": [
    "medical"
   ]
  },
  {
   "cell_type": "code",
   "execution_count": 174,
   "id": "83f6db82-8a21-4f7c-a8a4-e46ad486b2d7",
   "metadata": {},
   "outputs": [
    {
     "data": {
      "text/html": [
       "<div>\n",
       "<style scoped>\n",
       "    .dataframe tbody tr th:only-of-type {\n",
       "        vertical-align: middle;\n",
       "    }\n",
       "\n",
       "    .dataframe tbody tr th {\n",
       "        vertical-align: top;\n",
       "    }\n",
       "\n",
       "    .dataframe thead th {\n",
       "        text-align: right;\n",
       "    }\n",
       "</style>\n",
       "<table border=\"1\" class=\"dataframe\">\n",
       "  <thead>\n",
       "    <tr style=\"text-align: right;\">\n",
       "      <th></th>\n",
       "      <th>age</th>\n",
       "      <th>bmi</th>\n",
       "      <th>children</th>\n",
       "      <th>region</th>\n",
       "      <th>charges</th>\n",
       "      <th>Sex</th>\n",
       "      <th>Smoker</th>\n",
       "    </tr>\n",
       "  </thead>\n",
       "  <tbody>\n",
       "    <tr>\n",
       "      <th>0</th>\n",
       "      <td>19</td>\n",
       "      <td>27.900</td>\n",
       "      <td>0</td>\n",
       "      <td>1</td>\n",
       "      <td>16884.92400</td>\n",
       "      <td>1</td>\n",
       "      <td>0</td>\n",
       "    </tr>\n",
       "    <tr>\n",
       "      <th>1</th>\n",
       "      <td>18</td>\n",
       "      <td>33.770</td>\n",
       "      <td>1</td>\n",
       "      <td>0</td>\n",
       "      <td>1725.55230</td>\n",
       "      <td>0</td>\n",
       "      <td>1</td>\n",
       "    </tr>\n",
       "    <tr>\n",
       "      <th>2</th>\n",
       "      <td>28</td>\n",
       "      <td>33.000</td>\n",
       "      <td>3</td>\n",
       "      <td>0</td>\n",
       "      <td>4449.46200</td>\n",
       "      <td>0</td>\n",
       "      <td>1</td>\n",
       "    </tr>\n",
       "    <tr>\n",
       "      <th>3</th>\n",
       "      <td>33</td>\n",
       "      <td>22.705</td>\n",
       "      <td>0</td>\n",
       "      <td>3</td>\n",
       "      <td>21984.47061</td>\n",
       "      <td>0</td>\n",
       "      <td>1</td>\n",
       "    </tr>\n",
       "    <tr>\n",
       "      <th>4</th>\n",
       "      <td>32</td>\n",
       "      <td>28.880</td>\n",
       "      <td>0</td>\n",
       "      <td>3</td>\n",
       "      <td>3866.85520</td>\n",
       "      <td>0</td>\n",
       "      <td>1</td>\n",
       "    </tr>\n",
       "    <tr>\n",
       "      <th>...</th>\n",
       "      <td>...</td>\n",
       "      <td>...</td>\n",
       "      <td>...</td>\n",
       "      <td>...</td>\n",
       "      <td>...</td>\n",
       "      <td>...</td>\n",
       "      <td>...</td>\n",
       "    </tr>\n",
       "    <tr>\n",
       "      <th>1333</th>\n",
       "      <td>50</td>\n",
       "      <td>30.970</td>\n",
       "      <td>3</td>\n",
       "      <td>3</td>\n",
       "      <td>10600.54830</td>\n",
       "      <td>0</td>\n",
       "      <td>1</td>\n",
       "    </tr>\n",
       "    <tr>\n",
       "      <th>1334</th>\n",
       "      <td>18</td>\n",
       "      <td>31.920</td>\n",
       "      <td>0</td>\n",
       "      <td>2</td>\n",
       "      <td>2205.98080</td>\n",
       "      <td>1</td>\n",
       "      <td>1</td>\n",
       "    </tr>\n",
       "    <tr>\n",
       "      <th>1335</th>\n",
       "      <td>18</td>\n",
       "      <td>36.850</td>\n",
       "      <td>0</td>\n",
       "      <td>0</td>\n",
       "      <td>1629.83350</td>\n",
       "      <td>1</td>\n",
       "      <td>1</td>\n",
       "    </tr>\n",
       "    <tr>\n",
       "      <th>1336</th>\n",
       "      <td>21</td>\n",
       "      <td>25.800</td>\n",
       "      <td>0</td>\n",
       "      <td>1</td>\n",
       "      <td>2007.94500</td>\n",
       "      <td>1</td>\n",
       "      <td>1</td>\n",
       "    </tr>\n",
       "    <tr>\n",
       "      <th>1337</th>\n",
       "      <td>61</td>\n",
       "      <td>29.070</td>\n",
       "      <td>0</td>\n",
       "      <td>3</td>\n",
       "      <td>29141.36030</td>\n",
       "      <td>1</td>\n",
       "      <td>0</td>\n",
       "    </tr>\n",
       "  </tbody>\n",
       "</table>\n",
       "<p>1338 rows × 7 columns</p>\n",
       "</div>"
      ],
      "text/plain": [
       "      age     bmi  children  region      charges  Sex  Smoker\n",
       "0      19  27.900         0       1  16884.92400    1       0\n",
       "1      18  33.770         1       0   1725.55230    0       1\n",
       "2      28  33.000         3       0   4449.46200    0       1\n",
       "3      33  22.705         0       3  21984.47061    0       1\n",
       "4      32  28.880         0       3   3866.85520    0       1\n",
       "...   ...     ...       ...     ...          ...  ...     ...\n",
       "1333   50  30.970         3       3  10600.54830    0       1\n",
       "1334   18  31.920         0       2   2205.98080    1       1\n",
       "1335   18  36.850         0       0   1629.83350    1       1\n",
       "1336   21  25.800         0       1   2007.94500    1       1\n",
       "1337   61  29.070         0       3  29141.36030    1       0\n",
       "\n",
       "[1338 rows x 7 columns]"
      ]
     },
     "execution_count": 174,
     "metadata": {},
     "output_type": "execute_result"
    }
   ],
   "source": [
    "medicals = medical.drop(['sex','smoker'],axis=1)\n",
    "medicals\n",
    "# sex : male == 0; female == 1; \n",
    "#Smoker : yes == 0, No == 1; "
   ]
  },
  {
   "cell_type": "code",
   "execution_count": 175,
   "id": "04ede91a-6547-4588-8fdc-67bb16ddb031",
   "metadata": {},
   "outputs": [
    {
     "data": {
      "text/plain": [
       "0       16884.92400\n",
       "1        1725.55230\n",
       "2        4449.46200\n",
       "3       21984.47061\n",
       "4        3866.85520\n",
       "           ...     \n",
       "1333    10600.54830\n",
       "1334     2205.98080\n",
       "1335     1629.83350\n",
       "1336     2007.94500\n",
       "1337    29141.36030\n",
       "Name: charges, Length: 1338, dtype: float64"
      ]
     },
     "execution_count": 175,
     "metadata": {},
     "output_type": "execute_result"
    }
   ],
   "source": [
    "inputs = medicals.drop('charges',axis=1)\n",
    "inputs\n",
    "target = medicals['charges'] \n",
    "target"
   ]
  },
  {
   "cell_type": "code",
   "execution_count": 221,
   "id": "914d088e-cb89-4ed9-a2a7-7fd51770a15a",
   "metadata": {},
   "outputs": [],
   "source": [
    "from sklearn.model_selection import train_test_split\n",
    "x_train,x_test,y_train,y_test = train_test_split(inputs,target,test_size=0.2,random_state=0)"
   ]
  },
  {
   "cell_type": "code",
   "execution_count": 222,
   "id": "71bfddb0-7a17-47b6-a25d-73eb1aca7cef",
   "metadata": {},
   "outputs": [
    {
     "data": {
      "text/html": [
       "<div>\n",
       "<style scoped>\n",
       "    .dataframe tbody tr th:only-of-type {\n",
       "        vertical-align: middle;\n",
       "    }\n",
       "\n",
       "    .dataframe tbody tr th {\n",
       "        vertical-align: top;\n",
       "    }\n",
       "\n",
       "    .dataframe thead th {\n",
       "        text-align: right;\n",
       "    }\n",
       "</style>\n",
       "<table border=\"1\" class=\"dataframe\">\n",
       "  <thead>\n",
       "    <tr style=\"text-align: right;\">\n",
       "      <th></th>\n",
       "      <th>age</th>\n",
       "      <th>bmi</th>\n",
       "      <th>children</th>\n",
       "      <th>region</th>\n",
       "      <th>Sex</th>\n",
       "      <th>Smoker</th>\n",
       "    </tr>\n",
       "  </thead>\n",
       "  <tbody>\n",
       "    <tr>\n",
       "      <th>621</th>\n",
       "      <td>37</td>\n",
       "      <td>34.100</td>\n",
       "      <td>4</td>\n",
       "      <td>1</td>\n",
       "      <td>0</td>\n",
       "      <td>0</td>\n",
       "    </tr>\n",
       "    <tr>\n",
       "      <th>194</th>\n",
       "      <td>18</td>\n",
       "      <td>34.430</td>\n",
       "      <td>0</td>\n",
       "      <td>0</td>\n",
       "      <td>0</td>\n",
       "      <td>1</td>\n",
       "    </tr>\n",
       "    <tr>\n",
       "      <th>240</th>\n",
       "      <td>23</td>\n",
       "      <td>36.670</td>\n",
       "      <td>2</td>\n",
       "      <td>2</td>\n",
       "      <td>1</td>\n",
       "      <td>0</td>\n",
       "    </tr>\n",
       "    <tr>\n",
       "      <th>1168</th>\n",
       "      <td>32</td>\n",
       "      <td>35.200</td>\n",
       "      <td>2</td>\n",
       "      <td>1</td>\n",
       "      <td>0</td>\n",
       "      <td>1</td>\n",
       "    </tr>\n",
       "    <tr>\n",
       "      <th>1192</th>\n",
       "      <td>58</td>\n",
       "      <td>32.395</td>\n",
       "      <td>1</td>\n",
       "      <td>2</td>\n",
       "      <td>1</td>\n",
       "      <td>1</td>\n",
       "    </tr>\n",
       "    <tr>\n",
       "      <th>...</th>\n",
       "      <td>...</td>\n",
       "      <td>...</td>\n",
       "      <td>...</td>\n",
       "      <td>...</td>\n",
       "      <td>...</td>\n",
       "      <td>...</td>\n",
       "    </tr>\n",
       "    <tr>\n",
       "      <th>763</th>\n",
       "      <td>27</td>\n",
       "      <td>26.030</td>\n",
       "      <td>0</td>\n",
       "      <td>2</td>\n",
       "      <td>0</td>\n",
       "      <td>1</td>\n",
       "    </tr>\n",
       "    <tr>\n",
       "      <th>835</th>\n",
       "      <td>42</td>\n",
       "      <td>35.970</td>\n",
       "      <td>2</td>\n",
       "      <td>0</td>\n",
       "      <td>0</td>\n",
       "      <td>1</td>\n",
       "    </tr>\n",
       "    <tr>\n",
       "      <th>1216</th>\n",
       "      <td>40</td>\n",
       "      <td>25.080</td>\n",
       "      <td>0</td>\n",
       "      <td>0</td>\n",
       "      <td>0</td>\n",
       "      <td>1</td>\n",
       "    </tr>\n",
       "    <tr>\n",
       "      <th>559</th>\n",
       "      <td>19</td>\n",
       "      <td>35.530</td>\n",
       "      <td>0</td>\n",
       "      <td>3</td>\n",
       "      <td>0</td>\n",
       "      <td>1</td>\n",
       "    </tr>\n",
       "    <tr>\n",
       "      <th>684</th>\n",
       "      <td>33</td>\n",
       "      <td>18.500</td>\n",
       "      <td>1</td>\n",
       "      <td>1</td>\n",
       "      <td>1</td>\n",
       "      <td>1</td>\n",
       "    </tr>\n",
       "  </tbody>\n",
       "</table>\n",
       "<p>1070 rows × 6 columns</p>\n",
       "</div>"
      ],
      "text/plain": [
       "      age     bmi  children  region  Sex  Smoker\n",
       "621    37  34.100         4       1    0       0\n",
       "194    18  34.430         0       0    0       1\n",
       "240    23  36.670         2       2    1       0\n",
       "1168   32  35.200         2       1    0       1\n",
       "1192   58  32.395         1       2    1       1\n",
       "...   ...     ...       ...     ...  ...     ...\n",
       "763    27  26.030         0       2    0       1\n",
       "835    42  35.970         2       0    0       1\n",
       "1216   40  25.080         0       0    0       1\n",
       "559    19  35.530         0       3    0       1\n",
       "684    33  18.500         1       1    1       1\n",
       "\n",
       "[1070 rows x 6 columns]"
      ]
     },
     "execution_count": 222,
     "metadata": {},
     "output_type": "execute_result"
    }
   ],
   "source": [
    "x_train"
   ]
  },
  {
   "cell_type": "code",
   "execution_count": 223,
   "id": "0769251a-6020-48cc-9a20-64c9c869d5a7",
   "metadata": {},
   "outputs": [
    {
     "data": {
      "text/html": [
       "<div>\n",
       "<style scoped>\n",
       "    .dataframe tbody tr th:only-of-type {\n",
       "        vertical-align: middle;\n",
       "    }\n",
       "\n",
       "    .dataframe tbody tr th {\n",
       "        vertical-align: top;\n",
       "    }\n",
       "\n",
       "    .dataframe thead th {\n",
       "        text-align: right;\n",
       "    }\n",
       "</style>\n",
       "<table border=\"1\" class=\"dataframe\">\n",
       "  <thead>\n",
       "    <tr style=\"text-align: right;\">\n",
       "      <th></th>\n",
       "      <th>age</th>\n",
       "      <th>bmi</th>\n",
       "      <th>children</th>\n",
       "      <th>region</th>\n",
       "      <th>Sex</th>\n",
       "      <th>Smoker</th>\n",
       "    </tr>\n",
       "  </thead>\n",
       "  <tbody>\n",
       "    <tr>\n",
       "      <th>578</th>\n",
       "      <td>52</td>\n",
       "      <td>30.200</td>\n",
       "      <td>1</td>\n",
       "      <td>1</td>\n",
       "      <td>0</td>\n",
       "      <td>1</td>\n",
       "    </tr>\n",
       "    <tr>\n",
       "      <th>610</th>\n",
       "      <td>47</td>\n",
       "      <td>29.370</td>\n",
       "      <td>1</td>\n",
       "      <td>0</td>\n",
       "      <td>1</td>\n",
       "      <td>1</td>\n",
       "    </tr>\n",
       "    <tr>\n",
       "      <th>569</th>\n",
       "      <td>48</td>\n",
       "      <td>40.565</td>\n",
       "      <td>2</td>\n",
       "      <td>3</td>\n",
       "      <td>0</td>\n",
       "      <td>0</td>\n",
       "    </tr>\n",
       "    <tr>\n",
       "      <th>1034</th>\n",
       "      <td>61</td>\n",
       "      <td>38.380</td>\n",
       "      <td>0</td>\n",
       "      <td>3</td>\n",
       "      <td>0</td>\n",
       "      <td>1</td>\n",
       "    </tr>\n",
       "    <tr>\n",
       "      <th>198</th>\n",
       "      <td>51</td>\n",
       "      <td>18.050</td>\n",
       "      <td>0</td>\n",
       "      <td>3</td>\n",
       "      <td>1</td>\n",
       "      <td>1</td>\n",
       "    </tr>\n",
       "    <tr>\n",
       "      <th>...</th>\n",
       "      <td>...</td>\n",
       "      <td>...</td>\n",
       "      <td>...</td>\n",
       "      <td>...</td>\n",
       "      <td>...</td>\n",
       "      <td>...</td>\n",
       "    </tr>\n",
       "    <tr>\n",
       "      <th>1084</th>\n",
       "      <td>62</td>\n",
       "      <td>30.495</td>\n",
       "      <td>2</td>\n",
       "      <td>3</td>\n",
       "      <td>1</td>\n",
       "      <td>1</td>\n",
       "    </tr>\n",
       "    <tr>\n",
       "      <th>726</th>\n",
       "      <td>41</td>\n",
       "      <td>28.405</td>\n",
       "      <td>1</td>\n",
       "      <td>3</td>\n",
       "      <td>0</td>\n",
       "      <td>1</td>\n",
       "    </tr>\n",
       "    <tr>\n",
       "      <th>1132</th>\n",
       "      <td>57</td>\n",
       "      <td>40.280</td>\n",
       "      <td>0</td>\n",
       "      <td>2</td>\n",
       "      <td>0</td>\n",
       "      <td>1</td>\n",
       "    </tr>\n",
       "    <tr>\n",
       "      <th>725</th>\n",
       "      <td>30</td>\n",
       "      <td>39.050</td>\n",
       "      <td>3</td>\n",
       "      <td>0</td>\n",
       "      <td>1</td>\n",
       "      <td>0</td>\n",
       "    </tr>\n",
       "    <tr>\n",
       "      <th>963</th>\n",
       "      <td>46</td>\n",
       "      <td>24.795</td>\n",
       "      <td>3</td>\n",
       "      <td>2</td>\n",
       "      <td>0</td>\n",
       "      <td>1</td>\n",
       "    </tr>\n",
       "  </tbody>\n",
       "</table>\n",
       "<p>268 rows × 6 columns</p>\n",
       "</div>"
      ],
      "text/plain": [
       "      age     bmi  children  region  Sex  Smoker\n",
       "578    52  30.200         1       1    0       1\n",
       "610    47  29.370         1       0    1       1\n",
       "569    48  40.565         2       3    0       0\n",
       "1034   61  38.380         0       3    0       1\n",
       "198    51  18.050         0       3    1       1\n",
       "...   ...     ...       ...     ...  ...     ...\n",
       "1084   62  30.495         2       3    1       1\n",
       "726    41  28.405         1       3    0       1\n",
       "1132   57  40.280         0       2    0       1\n",
       "725    30  39.050         3       0    1       0\n",
       "963    46  24.795         3       2    0       1\n",
       "\n",
       "[268 rows x 6 columns]"
      ]
     },
     "execution_count": 223,
     "metadata": {},
     "output_type": "execute_result"
    }
   ],
   "source": [
    "x_test"
   ]
  },
  {
   "cell_type": "code",
   "execution_count": 224,
   "id": "c35f928b-8e7a-4da1-ab49-febf2c11a985",
   "metadata": {},
   "outputs": [
    {
     "data": {
      "text/plain": [
       "621     40182.24600\n",
       "194      1137.46970\n",
       "240     38511.62830\n",
       "1168     4670.64000\n",
       "1192    13019.16105\n",
       "           ...     \n",
       "763      3070.80870\n",
       "835      7160.33030\n",
       "1216     5415.66120\n",
       "559      1646.42970\n",
       "684      4766.02200\n",
       "Name: charges, Length: 1070, dtype: float64"
      ]
     },
     "execution_count": 224,
     "metadata": {},
     "output_type": "execute_result"
    }
   ],
   "source": [
    "y_train"
   ]
  },
  {
   "cell_type": "code",
   "execution_count": 225,
   "id": "bc5262e5-b124-4ad7-9580-16ced74e30a1",
   "metadata": {},
   "outputs": [],
   "source": [
    "from sklearn.linear_model import LinearRegression\n",
    "model_reg = LinearRegression()\n"
   ]
  },
  {
   "cell_type": "code",
   "execution_count": 226,
   "id": "70e6a5fc-bc57-4960-9394-56d5d32b21a3",
   "metadata": {},
   "outputs": [
    {
     "data": {
      "text/html": [
       "<style>#sk-container-id-4 {color: black;}#sk-container-id-4 pre{padding: 0;}#sk-container-id-4 div.sk-toggleable {background-color: white;}#sk-container-id-4 label.sk-toggleable__label {cursor: pointer;display: block;width: 100%;margin-bottom: 0;padding: 0.3em;box-sizing: border-box;text-align: center;}#sk-container-id-4 label.sk-toggleable__label-arrow:before {content: \"▸\";float: left;margin-right: 0.25em;color: #696969;}#sk-container-id-4 label.sk-toggleable__label-arrow:hover:before {color: black;}#sk-container-id-4 div.sk-estimator:hover label.sk-toggleable__label-arrow:before {color: black;}#sk-container-id-4 div.sk-toggleable__content {max-height: 0;max-width: 0;overflow: hidden;text-align: left;background-color: #f0f8ff;}#sk-container-id-4 div.sk-toggleable__content pre {margin: 0.2em;color: black;border-radius: 0.25em;background-color: #f0f8ff;}#sk-container-id-4 input.sk-toggleable__control:checked~div.sk-toggleable__content {max-height: 200px;max-width: 100%;overflow: auto;}#sk-container-id-4 input.sk-toggleable__control:checked~label.sk-toggleable__label-arrow:before {content: \"▾\";}#sk-container-id-4 div.sk-estimator input.sk-toggleable__control:checked~label.sk-toggleable__label {background-color: #d4ebff;}#sk-container-id-4 div.sk-label input.sk-toggleable__control:checked~label.sk-toggleable__label {background-color: #d4ebff;}#sk-container-id-4 input.sk-hidden--visually {border: 0;clip: rect(1px 1px 1px 1px);clip: rect(1px, 1px, 1px, 1px);height: 1px;margin: -1px;overflow: hidden;padding: 0;position: absolute;width: 1px;}#sk-container-id-4 div.sk-estimator {font-family: monospace;background-color: #f0f8ff;border: 1px dotted black;border-radius: 0.25em;box-sizing: border-box;margin-bottom: 0.5em;}#sk-container-id-4 div.sk-estimator:hover {background-color: #d4ebff;}#sk-container-id-4 div.sk-parallel-item::after {content: \"\";width: 100%;border-bottom: 1px solid gray;flex-grow: 1;}#sk-container-id-4 div.sk-label:hover label.sk-toggleable__label {background-color: #d4ebff;}#sk-container-id-4 div.sk-serial::before {content: \"\";position: absolute;border-left: 1px solid gray;box-sizing: border-box;top: 0;bottom: 0;left: 50%;z-index: 0;}#sk-container-id-4 div.sk-serial {display: flex;flex-direction: column;align-items: center;background-color: white;padding-right: 0.2em;padding-left: 0.2em;position: relative;}#sk-container-id-4 div.sk-item {position: relative;z-index: 1;}#sk-container-id-4 div.sk-parallel {display: flex;align-items: stretch;justify-content: center;background-color: white;position: relative;}#sk-container-id-4 div.sk-item::before, #sk-container-id-4 div.sk-parallel-item::before {content: \"\";position: absolute;border-left: 1px solid gray;box-sizing: border-box;top: 0;bottom: 0;left: 50%;z-index: -1;}#sk-container-id-4 div.sk-parallel-item {display: flex;flex-direction: column;z-index: 1;position: relative;background-color: white;}#sk-container-id-4 div.sk-parallel-item:first-child::after {align-self: flex-end;width: 50%;}#sk-container-id-4 div.sk-parallel-item:last-child::after {align-self: flex-start;width: 50%;}#sk-container-id-4 div.sk-parallel-item:only-child::after {width: 0;}#sk-container-id-4 div.sk-dashed-wrapped {border: 1px dashed gray;margin: 0 0.4em 0.5em 0.4em;box-sizing: border-box;padding-bottom: 0.4em;background-color: white;}#sk-container-id-4 div.sk-label label {font-family: monospace;font-weight: bold;display: inline-block;line-height: 1.2em;}#sk-container-id-4 div.sk-label-container {text-align: center;}#sk-container-id-4 div.sk-container {/* jupyter's `normalize.less` sets `[hidden] { display: none; }` but bootstrap.min.css set `[hidden] { display: none !important; }` so we also need the `!important` here to be able to override the default hidden behavior on the sphinx rendered scikit-learn.org. See: https://github.com/scikit-learn/scikit-learn/issues/21755 */display: inline-block !important;position: relative;}#sk-container-id-4 div.sk-text-repr-fallback {display: none;}</style><div id=\"sk-container-id-4\" class=\"sk-top-container\"><div class=\"sk-text-repr-fallback\"><pre>LinearRegression()</pre><b>In a Jupyter environment, please rerun this cell to show the HTML representation or trust the notebook. <br />On GitHub, the HTML representation is unable to render, please try loading this page with nbviewer.org.</b></div><div class=\"sk-container\" hidden><div class=\"sk-item\"><div class=\"sk-estimator sk-toggleable\"><input class=\"sk-toggleable__control sk-hidden--visually\" id=\"sk-estimator-id-4\" type=\"checkbox\" checked><label for=\"sk-estimator-id-4\" class=\"sk-toggleable__label sk-toggleable__label-arrow\">LinearRegression</label><div class=\"sk-toggleable__content\"><pre>LinearRegression()</pre></div></div></div></div></div>"
      ],
      "text/plain": [
       "LinearRegression()"
      ]
     },
     "execution_count": 226,
     "metadata": {},
     "output_type": "execute_result"
    }
   ],
   "source": [
    "model_reg.fit(x_train,y_train)"
   ]
  },
  {
   "cell_type": "code",
   "execution_count": 227,
   "id": "5d0d62d1-27c8-42eb-b056-6b02d010be82",
   "metadata": {},
   "outputs": [
    {
     "data": {
      "text/plain": [
       "array([11314.55649519,  9505.58891773, 38360.58383815, 16449.59640407,\n",
       "        7117.89379839,  3625.40607824,  1220.82286678, 14546.23034668,\n",
       "        9175.38911418,  7670.45320003,  4137.50251413, 10460.04576612,\n",
       "        8937.02424204,  3821.65458782, 28121.9236222 , 10727.21593537,\n",
       "       11492.35478865,  5741.04672175,  8414.69398732, 26801.81210287,\n",
       "       33848.38568362, 14527.74171334, 11390.85379777, 32180.53730024,\n",
       "        4178.01083124,  8887.21190336,   744.58537141,  9803.59635122,\n",
       "        3791.46686472, 10607.59311526,  9175.47238397, 40104.40338991,\n",
       "       15833.68613995, 14020.43761781, 24429.83851219,  4812.11477907,\n",
       "       12615.54616137, 30908.11622546, 33731.94909917,  3794.59535793,\n",
       "        3636.61843919,  4007.71037332, 30202.73392169, 39695.63095105,\n",
       "       27824.21897431,  5247.42299012, 10616.83293985,  8014.84064366,\n",
       "        3241.96543926, 10245.23684269,  5352.03102501,  3581.85961167,\n",
       "       33183.50761881, 38119.35302412, 16065.17314482,  6802.84856411,\n",
       "        5746.95388287,  9648.87690851,  8916.81736286, 11924.15159482,\n",
       "        1990.53718952, 39110.73276233, 14914.40196206, 11940.27650856,\n",
       "       13678.73000489, 14182.2220779 , 25859.6869913 , 32404.51133779,\n",
       "         824.68867761, 10327.00932688, 12513.21409513, 11558.70369774,\n",
       "       25398.36854633, 15643.91897276, 11408.15311095, 12312.71764251,\n",
       "        6714.71556405,  9605.01755928, 29851.15347544, 39265.14844366,\n",
       "       11708.78956686, 37308.16264337,  4436.2957674 ,  9534.75736564,\n",
       "       34511.48186759, 28881.39094851,  8795.82900004,  5103.77768896,\n",
       "       12191.22202506, 30616.89013791,  9698.38076097, 11545.1825668 ,\n",
       "        8021.37582277,  8913.75104114,  8074.17529154,  6959.94869444,\n",
       "       35700.80775067, 33334.16298774,  7821.77009815, 15278.17641375,\n",
       "        4027.53019952,  8999.67544583,  6320.71532294, 31580.24091584,\n",
       "       33167.61547245,  2159.69458047,  9190.38696398,  6862.72081227,\n",
       "       14239.89758165, 37408.36587864, 10320.02449873, 10571.1221164 ,\n",
       "       10409.48876559, 26642.84421833, 39927.03833944,  8111.90198627,\n",
       "         435.48171127,  9170.06751908, 15402.36371286,  9704.80079234,\n",
       "       35170.55110968,  7467.48158576, 17122.66529749,  9274.06840165,\n",
       "        8388.4958386 ,  3118.70223146, 32584.38519824, 31687.30511353,\n",
       "       39783.2727519 ,  5770.88489649,  9321.79199573,  3592.77956339,\n",
       "        7658.80773322,  8297.32154536, 31895.15655321, 30128.69554579,\n",
       "       29831.08749319,  8750.05719195, 32482.1312847 ,  3533.50344448,\n",
       "        3875.35697564, 11333.26199943, 13157.55122586, 12523.77720267,\n",
       "        5631.23834312, 15603.82133655, 14948.30470938,  2578.24473192,\n",
       "         209.84011009, 10508.75094153,  7055.52927265, 31867.53097801,\n",
       "       12033.91833856,  2341.77228085,  6626.82752243,  7872.96711552,\n",
       "        4613.87718996,  2121.00628982, 11527.38103134, 12703.00227589,\n",
       "        6890.67427556, 16408.77415458, 12011.91464704, 14237.9917719 ,\n",
       "        2842.02882582,  6909.24617869, 23282.07463444,  7219.73913581,\n",
       "        5137.49336012,  5195.80009954,  6920.72062477,  4838.29603372,\n",
       "       10173.76201531,  5385.61717321,  5855.17403742,  6631.17477964,\n",
       "        3344.78065497,  5758.55420939, 37727.23393666,  1146.13992971,\n",
       "       12811.62133436,  9132.44146518, 13970.82987424,  5412.50159195,\n",
       "        4838.54584307, 36145.97611624,  4038.00645792,  2172.64109451,\n",
       "       15412.21194249, 12317.87635135, 34810.84573355,  4781.95999442,\n",
       "        5819.24940923, 31283.04094057,  6374.81297215,  2291.78989721,\n",
       "        8079.91688886,  9666.64547291,  7998.82219202,  5980.65959092,\n",
       "       12807.81848525, 38515.46577488, 13923.93854236, 29022.29467232,\n",
       "        6952.5808175 , 35555.88065356,  3408.2095962 , 11916.10438202,\n",
       "        9057.16708032,  6251.70663171, 11542.3289007 , 14219.41628942,\n",
       "        5329.96508806,  4590.81580603,  8049.43779547,  1489.00447526,\n",
       "        7494.81052568,  4068.29034069, 12905.14610643,  3896.49215034,\n",
       "       10221.70548689,  6838.74913952,  9442.01860259,  2047.31430778,\n",
       "       13389.46327609, 17053.48284483, 14948.47944659, 10746.96126217,\n",
       "        5310.16538439,  2254.7956625 ,  1946.76980651, 13145.90246742,\n",
       "       14074.97592113,  4632.18700795,  3778.42838445,  9618.5139494 ,\n",
       "        9629.87638069, 27945.94786871,  7298.6155651 , 10125.43520722,\n",
       "        6464.60631395, 30020.78413258, 11268.66327704,  7164.14833112,\n",
       "       10403.76819261, 12432.29091782,  2645.39690578, 11044.81905017,\n",
       "        1189.21248339,  6694.97893369, 28473.93645097, 38845.16328219,\n",
       "        6484.77561456,  8180.0770039 ,  2174.13055534,    97.50147229,\n",
       "       10705.48610598,  4202.35313987,  5114.96943936,  2359.96596456,\n",
       "        6832.40419108, 33569.35317667, 37925.48380156, 14941.09152107,\n",
       "        8459.6759301 , 15796.92517141, 32906.58025173,  9115.84994515])"
      ]
     },
     "execution_count": 227,
     "metadata": {},
     "output_type": "execute_result"
    }
   ],
   "source": [
    "y_predict = model_reg.predict(x_test)\n",
    "y_predict"
   ]
  },
  {
   "cell_type": "code",
   "execution_count": 228,
   "id": "6b5329ec-a1d9-43fe-95d6-8e946d0c8abb",
   "metadata": {},
   "outputs": [
    {
     "data": {
      "text/plain": [
       "0.7989875396812892"
      ]
     },
     "execution_count": 228,
     "metadata": {},
     "output_type": "execute_result"
    }
   ],
   "source": [
    "score_1 = model_reg.score(x_test,y_test) \n",
    "score_1"
   ]
  },
  {
   "cell_type": "code",
   "execution_count": 229,
   "id": "7a924700-28fa-4049-90f6-14f841e37df9",
   "metadata": {},
   "outputs": [
    {
     "data": {
      "text/plain": [
       "array([ 2.54257019e+02,  3.34493926e+02,  4.31796806e+02,  2.71181618e+02,\n",
       "        1.11290912e+01, -2.36218658e+04])"
      ]
     },
     "execution_count": 229,
     "metadata": {},
     "output_type": "execute_result"
    }
   ],
   "source": [
    "cofficient = model_reg.coef_\n",
    "cofficient \n",
    "\n"
   ]
  },
  {
   "cell_type": "code",
   "execution_count": 230,
   "id": "01171b35-bc5e-4301-b1a3-700445ae77c4",
   "metadata": {},
   "outputs": [
    {
     "data": {
      "text/plain": [
       "10910.36238383535"
      ]
     },
     "execution_count": 230,
     "metadata": {},
     "output_type": "execute_result"
    }
   ],
   "source": [
    "intercept = model_reg.intercept_\n",
    "intercept\n"
   ]
  },
  {
   "cell_type": "code",
   "execution_count": 231,
   "id": "5f763957-5c9c-47f9-a6a3-f494308d876e",
   "metadata": {},
   "outputs": [
    {
     "data": {
      "text/plain": [
       "578      9724.53000\n",
       "610      8547.69130\n",
       "569     45702.02235\n",
       "1034    12950.07120\n",
       "198      9644.25250\n",
       "           ...     \n",
       "1084    15019.76005\n",
       "726      6664.68595\n",
       "1132    20709.02034\n",
       "725     40932.42950\n",
       "963      9500.57305\n",
       "Name: charges, Length: 268, dtype: float64"
      ]
     },
     "execution_count": 231,
     "metadata": {},
     "output_type": "execute_result"
    }
   ],
   "source": [
    "y_test"
   ]
  },
  {
   "cell_type": "code",
   "execution_count": 232,
   "id": "0031855a-5731-4f15-abe0-9d27704363a6",
   "metadata": {},
   "outputs": [
    {
     "data": {
      "image/png": "[encoded data removed]",
      "text/plain": [
       "<Figure size 640x480 with 1 Axes>"
      ]
     },
     "metadata": {},
     "output_type": "display_data"
    }
   ],
   "source": [
    "import matplotlib.pyplot as plt\n",
    "\n",
    "plt.hist(y_train, bins=50)  # Visualize y_train distribution\n",
    "plt.title('Distribution of y_train')\n",
    "plt.xlabel('Values')\n",
    "plt.ylabel('Frequency')\n",
    "plt.show()\n"
   ]
  },
  {
   "cell_type": "code",
   "execution_count": 233,
   "id": "8579c1d5-baf0-4d17-a3c0-e65ca4090d59",
   "metadata": {},
   "outputs": [
    {
     "data": {
      "text/plain": [
       "array([[-0.18550918],\n",
       "       [-0.35310988],\n",
       "       [ 2.32030306],\n",
       "       [ 0.29025185],\n",
       "       [-0.57432964],\n",
       "       [-0.89790834],\n",
       "       [-1.12069278],\n",
       "       [ 0.11390514],\n",
       "       [-0.38370286],\n",
       "       [-0.52313505],\n",
       "       [-0.85046265],\n",
       "       [-0.26467953],\n",
       "       [-0.40578735],\n",
       "       [-0.87972593],\n",
       "       [ 1.37169202],\n",
       "       [-0.23992623],\n",
       "       [-0.16903618],\n",
       "       [-0.70189441],\n",
       "       [-0.4541812 ],\n",
       "       [ 1.2493838 ],\n",
       "       [ 1.90224827],\n",
       "       [ 0.11219217],\n",
       "       [-0.17844024],\n",
       "       [ 1.74772225],\n",
       "       [-0.84670956],\n",
       "       [-0.41040246],\n",
       "       [-1.16481615],\n",
       "       [-0.32549951],\n",
       "       [-0.88252282],\n",
       "       [-0.25100928],\n",
       "       [-0.38369515],\n",
       "       [ 2.4818678 ],\n",
       "       [ 0.23318782],\n",
       "       [ 0.06519049],\n",
       "       [ 1.02962064],\n",
       "       [-0.78795988],\n",
       "       [-0.06497259],\n",
       "       [ 1.62983254],\n",
       "       [ 1.89146043],\n",
       "       [-0.88223297],\n",
       "       [-0.89686952],\n",
       "       [-0.86248788],\n",
       "       [ 1.56447893],\n",
       "       [ 2.44399507],\n",
       "       [ 1.34410971],\n",
       "       [-0.74762861],\n",
       "       [-0.25015321],\n",
       "       [-0.49122758],\n",
       "       [-0.93343409],\n",
       "       [-0.28458156],\n",
       "       [-0.73793668],\n",
       "       [-0.90194292],\n",
       "       [ 1.84064737],\n",
       "       [ 2.29795305],\n",
       "       [ 0.25463507],\n",
       "       [-0.60351855],\n",
       "       [-0.70134711],\n",
       "       [-0.33983426],\n",
       "       [-0.40765951],\n",
       "       [-0.12903024],\n",
       "       [-1.04937881],\n",
       "       [ 2.3898043 ],\n",
       "       [ 0.14801621],\n",
       "       [-0.12753627],\n",
       "       [ 0.03353131],\n",
       "       [ 0.08017981],\n",
       "       [ 1.16209598],\n",
       "       [ 1.76847343],\n",
       "       [-1.15739458],\n",
       "       [-0.27700534],\n",
       "       [-0.07445365],\n",
       "       [-0.16288896],\n",
       "       [ 1.11935487],\n",
       "       [ 0.2156059 ],\n",
       "       [-0.17683746],\n",
       "       [-0.09302963],\n",
       "       [-0.61168407],\n",
       "       [-0.34389782],\n",
       "       [ 1.53190503],\n",
       "       [ 2.4041109 ],\n",
       "       [-0.14898352],\n",
       "       [ 2.22279633],\n",
       "       [-0.82277948],\n",
       "       [-0.35040742],\n",
       "       [ 1.96368408],\n",
       "       [ 1.44205661],\n",
       "       [-0.41886908],\n",
       "       [-0.76093733],\n",
       "       [-0.10428619],\n",
       "       [ 1.60285047],\n",
       "       [-0.33524773],\n",
       "       [-0.16414169],\n",
       "       [-0.4906221 ],\n",
       "       [-0.40794361],\n",
       "       [-0.48573023],\n",
       "       [-0.58896324],\n",
       "       [ 2.07387503],\n",
       "       [ 1.85460558],\n",
       "       [-0.50911555],\n",
       "       [ 0.18171989],\n",
       "       [-0.86065157],\n",
       "       [-0.39998272],\n",
       "       [-0.64818816],\n",
       "       [ 1.69210484],\n",
       "       [ 1.83917497],\n",
       "       [-1.03370639],\n",
       "       [-0.38231331],\n",
       "       [-0.59797139],\n",
       "       [ 0.08552344],\n",
       "       [ 2.23208015],\n",
       "       [-0.27765249],\n",
       "       [-0.25438831],\n",
       "       [-0.26936363],\n",
       "       [ 1.23465544],\n",
       "       [ 2.46543495],\n",
       "       [-0.48223486],\n",
       "       [-1.19345458],\n",
       "       [-0.38419591],\n",
       "       [ 0.19322583],\n",
       "       [-0.33465291],\n",
       "       [ 2.02474679],\n",
       "       [-0.54194036],\n",
       "       [ 0.35261163],\n",
       "       [-0.37456023],\n",
       "       [-0.45660846],\n",
       "       [-0.94485441],\n",
       "       [ 1.78513873],\n",
       "       [ 1.70202433],\n",
       "       [ 2.45211508],\n",
       "       [-0.6991299 ],\n",
       "       [-0.37013865],\n",
       "       [-0.90093118],\n",
       "       [-0.524214  ],\n",
       "       [-0.46505575],\n",
       "       [ 1.72128175],\n",
       "       [ 1.55761928],\n",
       "       [ 1.53004592],\n",
       "       [-0.42310983],\n",
       "       [ 1.77566491],\n",
       "       [-0.90642311],\n",
       "       [-0.87475041],\n",
       "       [-0.18377611],\n",
       "       [-0.01475587],\n",
       "       [-0.07347498],\n",
       "       [-0.71206814],\n",
       "       [ 0.21189086],\n",
       "       [ 0.1511573 ],\n",
       "       [-0.99492775],\n",
       "       [-1.21436025],\n",
       "       [-0.260167  ],\n",
       "       [-0.5801077 ],\n",
       "       [ 1.71872224],\n",
       "       [-0.11886036],\n",
       "       [-1.01683691],\n",
       "       [-0.61982689],\n",
       "       [-0.50437216],\n",
       "       [-0.80632657],\n",
       "       [-1.03729086],\n",
       "       [-0.165791  ],\n",
       "       [-0.05686979],\n",
       "       [-0.59538151],\n",
       "       [ 0.28646968],\n",
       "       [-0.120899  ],\n",
       "       [ 0.08534686],\n",
       "       [-0.97048818],\n",
       "       [-0.59366082],\n",
       "       [ 0.92328041],\n",
       "       [-0.56489367],\n",
       "       [-0.75781358],\n",
       "       [-0.75241146],\n",
       "       [-0.59259772],\n",
       "       [-0.78553418],\n",
       "       [-0.29120369],\n",
       "       [-0.73482493],\n",
       "       [-0.69132052],\n",
       "       [-0.61942411],\n",
       "       [-0.92390826],\n",
       "       [-0.70027234],\n",
       "       [ 2.26162325],\n",
       "       [-1.12761215],\n",
       "       [-0.04680624],\n",
       "       [-0.38768196],\n",
       "       [ 0.06059434],\n",
       "       [-0.73233409],\n",
       "       [-0.78551104],\n",
       "       [ 2.11511984],\n",
       "       [-0.85968095],\n",
       "       [-1.0325069 ],\n",
       "       [ 0.19413827],\n",
       "       [-0.09255167],\n",
       "       [ 1.99142012],\n",
       "       [-0.79075371],\n",
       "       [-0.69464893],\n",
       "       [ 1.66456929],\n",
       "       [-0.64317602],\n",
       "       [-1.02146777],\n",
       "       [-0.48519828],\n",
       "       [-0.338188  ],\n",
       "       [-0.49271169],\n",
       "       [-0.67969429],\n",
       "       [-0.04715858],\n",
       "       [ 2.33465286],\n",
       "       [ 0.05624986],\n",
       "       [ 1.45511133],\n",
       "       [-0.58964587],\n",
       "       [ 2.06044754],\n",
       "       [-0.91803158],\n",
       "       [-0.12977581],\n",
       "       [-0.39465612],\n",
       "       [-0.65458181],\n",
       "       [-0.16440608],\n",
       "       [ 0.08362585],\n",
       "       [-0.73998109],\n",
       "       [-0.80846321],\n",
       "       [-0.48802216],\n",
       "       [-1.09584578],\n",
       "       [-0.53940833],\n",
       "       [-0.85687515],\n",
       "       [-0.03814118],\n",
       "       [-0.87279224],\n",
       "       [-0.28676174],\n",
       "       [-0.60019237],\n",
       "       [-0.35899966],\n",
       "       [-1.04411842],\n",
       "       [ 0.00673077],\n",
       "       [ 0.34620188],\n",
       "       [ 0.15117349],\n",
       "       [-0.23809683],\n",
       "       [-0.74181553],\n",
       "       [-1.02489529],\n",
       "       [-1.05343386],\n",
       "       [-0.01583512],\n",
       "       [ 0.07024346],\n",
       "       [-0.80463017],\n",
       "       [-0.88373084],\n",
       "       [-0.34264738],\n",
       "       [-0.34159465],\n",
       "       [ 1.35538789],\n",
       "       [-0.55758578],\n",
       "       [-0.29568117],\n",
       "       [-0.63485667],\n",
       "       [ 1.5476213 ],\n",
       "       [-0.18976118],\n",
       "       [-0.57004416],\n",
       "       [-0.26989364],\n",
       "       [-0.08195117],\n",
       "       [-0.98870611],\n",
       "       [-0.21050033],\n",
       "       [-1.12362148],\n",
       "       [-0.61351266],\n",
       "       [ 1.40430598],\n",
       "       [ 2.36519931],\n",
       "       [-0.63298799],\n",
       "       [-0.47591845],\n",
       "       [-1.0323689 ],\n",
       "       [-1.22476842],\n",
       "       [-0.2419395 ],\n",
       "       [-0.84445424],\n",
       "       [-0.75990042],\n",
       "       [-1.01515127],\n",
       "       [-0.60078023],\n",
       "       [ 1.87639593],\n",
       "       [ 2.27999108],\n",
       "       [ 0.150489  ],\n",
       "       [-0.45001363],\n",
       "       [ 0.22978192],\n",
       "       [ 1.81499007],\n",
       "       [-0.38921916]])"
      ]
     },
     "execution_count": 233,
     "metadata": {},
     "output_type": "execute_result"
    }
   ],
   "source": [
    "from sklearn.preprocessing import StandardScaler\n",
    "scaler = StandardScaler()\n",
    "x_train_scaled = scaler.fit_transform(x_train)\n",
    "x_train_scaled\n",
    "x_test_scaled = scaler.fit_transform(x_test)\n",
    "x_test_scaled\n",
    "\n",
    "y_train_reshaped = y_train.values.reshape(-1, 1)\n",
    "y_train_scaled = scaler.fit_transform(y_train_reshaped)\n",
    "y_test_reshaped = y_test.values.reshape(-1,1)\n",
    "y_test_scaled = scaler.fit_transform(y_test_reshaped) \n",
    "\n",
    "y_predict_reshaped = y_predict.reshape(-1,1)\n",
    "y_predict_scaled = scaler.fit_transform(y_predict_reshaped)\n",
    "y_predict_scaled"
   ]
  },
  {
   "cell_type": "code",
   "execution_count": 234,
   "id": "cf64c150-f8d6-4daa-9156-e3d2065996c9",
   "metadata": {},
   "outputs": [
    {
     "data": {
      "text/plain": [
       "array([[1., 0., 0., 0., 0., 0.],\n",
       "       [0., 1., 0., 0., 0., 0.],\n",
       "       [0., 0., 1., 0., 0., 0.],\n",
       "       [0., 0., 0., 1., 0., 0.],\n",
       "       [0., 0., 0., 0., 1., 0.],\n",
       "       [0., 0., 0., 0., 0., 1.]])"
      ]
     },
     "execution_count": 234,
     "metadata": {},
     "output_type": "execute_result"
    }
   ],
   "source": [
    "from sklearn.feature_extraction.text import TfidfVectorizer\n",
    "tfidf = TfidfVectorizer(min_df=1,lowercase=True,stop_words='english')\n",
    "x_train_features = tfidf.fit_transform(x_train).toarray()\n",
    "x_test_features = tfidf.transform(x_test).toarray()\n",
    "x_train_features\n"
   ]
  },
  {
   "cell_type": "code",
   "execution_count": 237,
   "id": "9a2ad045-9002-4d38-a700-9116f27767e8",
   "metadata": {},
   "outputs": [
    {
     "data": {
      "text/plain": [
       "0.7979206294629803"
      ]
     },
     "execution_count": 237,
     "metadata": {},
     "output_type": "execute_result"
    }
   ],
   "source": [
    "# L1 regression / L1 regulaxzier \n",
    "from sklearn.linear_model import Lasso\n",
    "lasso_reg = Lasso(alpha= 50,max_iter=100,tol=0.1)\n",
    "lasso_reg1 = Lasso(alpha= 50,max_iter=100,tol=0.1)\n",
    "lasso_reg.fit(x_train,y_train)\n",
    "lasso_reg.score(x_test,y_test)\n",
    "\n"
   ]
  },
  {
   "cell_type": "code",
   "execution_count": 238,
   "id": "02ed2b9f-0ab7-42dc-934b-baa5c9b31462",
   "metadata": {},
   "outputs": [
    {
     "data": {
      "text/plain": [
       "0.7572437135784446"
      ]
     },
     "execution_count": 238,
     "metadata": {},
     "output_type": "execute_result"
    }
   ],
   "source": [
    "# L2 Regressioin \n",
    "from sklearn.linear_model import Ridge\n",
    "ridge_reg = Ridge(alpha=50,max_iter=100,tol=0.1)\n",
    "ridge_reg.fit(x_train,y_train)\n",
    "ridge_reg.score(x_test,y_test)"
   ]
  },
  {
   "cell_type": "code",
   "execution_count": 239,
   "id": "ed20e2c4-ffe5-4de7-83ca-65bab92e3189",
   "metadata": {},
   "outputs": [
    {
     "data": {
      "text/plain": [
       "0.7942379008209411"
      ]
     },
     "execution_count": 239,
     "metadata": {},
     "output_type": "execute_result"
    }
   ],
   "source": [
    "# L2 Regressioin \n",
    "from sklearn.linear_model import Ridge\n",
    "ridge_reg = Ridge(alpha=50,max_iter=100,tol=0.1) \n",
    "ridge_reg1 = Ridge(alpha=50,max_iter=100,tol=0.1)\n",
    "ridge_reg.fit(x_train,y_train)\n",
    "ridge_reg.score(x_test,y_test) \n",
    "\n",
    "ridge_reg1.fit(x_train_scaled,y_train)\n",
    "ridge_reg1.score(x_test_scaled,y_test)\n",
    "\n"
   ]
  },
  {
   "cell_type": "code",
   "execution_count": 240,
   "id": "69f0d2a2-9897-40c4-9daa-d802bb583043",
   "metadata": {},
   "outputs": [
    {
     "data": {
      "text/plain": [
       "0.6784275184329704"
      ]
     },
     "execution_count": 240,
     "metadata": {},
     "output_type": "execute_result"
    }
   ],
   "source": [
    "from sklearn.tree import DecisionTreeRegressor\n",
    "model_tree = DecisionTreeRegressor()\n",
    "model_tree.fit(x_train, y_train)\n",
    "model_tree.score(x_test,y_test)"
   ]
  },
  {
   "cell_type": "code",
   "execution_count": 241,
   "id": "b1097bff-dcae-4161-9635-cc55a2e6ecf8",
   "metadata": {},
   "outputs": [
    {
     "data": {
      "text/plain": [
       "0.6614619894523688"
      ]
     },
     "execution_count": 241,
     "metadata": {},
     "output_type": "execute_result"
    }
   ],
   "source": [
    "from sklearn import tree \n",
    "model_tree1 = tree.DecisionTreeRegressor()\n",
    "model_tree1.fit(x_train_scaled,y_train_scaled)\n",
    "\n",
    "model_tree1.score(x_test_scaled,y_test_scaled)"
   ]
  },
  {
   "cell_type": "code",
   "execution_count": 196,
   "id": "b7bcb729-59c6-43a0-b073-b48e77358b52",
   "metadata": {},
   "outputs": [],
   "source": [
    "#from sklearn.svm import SVR \n",
    "#model_svm = SVR(C=10)\n",
    "#model_svm.fit(x_train,y_train)\n",
    "#model_svm.score(x_test,y_test)"
   ]
  },
  {
   "cell_type": "code",
   "execution_count": 242,
   "id": "541eb7bb-4ede-4fec-a01c-4595f6102820",
   "metadata": {},
   "outputs": [
    {
     "name": "stderr",
     "output_type": "stream",
     "text": [
      "d:\\coding notes\\jupyter project\\myenv\\lib\\site-packages\\sklearn\\utils\\validation.py:1183: DataConversionWarning: A column-vector y was passed when a 1d array was expected. Please change the shape of y to (n_samples, ), for example using ravel().\n",
      "  y = column_or_1d(y, warn=True)\n"
     ]
    },
    {
     "data": {
      "text/plain": [
       "0.8897610162616924"
      ]
     },
     "execution_count": 242,
     "metadata": {},
     "output_type": "execute_result"
    }
   ],
   "source": [
    "from sklearn.svm import SVR\n",
    "model_svm1 = SVR(C=10)\n",
    "model_svm1.fit(x_train_scaled,y_train_scaled) \n",
    "model_svm1.score(x_test_scaled,y_test_scaled)"
   ]
  },
  {
   "cell_type": "code",
   "execution_count": 243,
   "id": "a59f77e4-cb91-4a03-a9a2-ea5ac00bcd5f",
   "metadata": {},
   "outputs": [
    {
     "data": {
      "text/plain": [
       "0.8847956693878218"
      ]
     },
     "execution_count": 243,
     "metadata": {},
     "output_type": "execute_result"
    }
   ],
   "source": [
    "from sklearn.ensemble import RandomForestRegressor\n",
    "model_Ran = RandomForestRegressor()\n",
    "model_Ran.fit(x_train,y_train)\n",
    "model_Ran.score(x_test,y_test)\n"
   ]
  },
  {
   "cell_type": "code",
   "execution_count": 244,
   "id": "5cf5dd4d-2e0c-4c28-baa9-c48613097203",
   "metadata": {},
   "outputs": [
    {
     "data": {
      "text/plain": [
       "0.86703879829192"
      ]
     },
     "execution_count": 244,
     "metadata": {},
     "output_type": "execute_result"
    }
   ],
   "source": [
    "from sklearn.ensemble import RandomForestRegressor\n",
    "model_Ran1 = RandomForestRegressor()\n",
    "model_Ran1.fit(x_train_scaled,y_train)\n",
    "model_Ran1.score(x_test_scaled,y_test)\n",
    "\n"
   ]
  },
  {
   "cell_type": "code",
   "execution_count": 210,
   "id": "0485276a-0d2c-4b72-81cf-537171ce5a38",
   "metadata": {},
   "outputs": [
    {
     "data": {
      "text/plain": [
       "array([11612.432991  , 11373.6307445 , 45126.1584869 , 13310.83005   ,\n",
       "       10886.3007665 , 11557.4392818 ,  2149.943306  , 14172.4838877 ,\n",
       "        8250.943318  ,  5704.011344  ,  6914.1731907 , 17970.5056328 ,\n",
       "        7234.2792995 ,  5108.8362887 , 22432.6642679 , 12492.275077  ,\n",
       "       13934.8781541 ,  6737.4956989 ,  7046.8710037 , 34287.993407  ,\n",
       "       23993.563537  , 13545.9748073 , 10898.336251  , 28296.8130507 ,\n",
       "        2149.2252229 ,  9226.3285532 ,  6121.1806303 , 11117.7962966 ,\n",
       "        3550.320818  , 14477.7955624 ,  7917.2717393 , 47942.613247  ,\n",
       "       13444.486946  , 10698.9777123 , 15194.3473946 ,  4209.7021515 ,\n",
       "        8753.6679102 , 38119.4000056 , 39990.9897684 ,  5770.7856895 ,\n",
       "       10461.8825251 ,  3394.4334598 , 21243.6328646 , 47553.5773858 ,\n",
       "       37156.3450148 ,  6362.9169116 , 12695.7669794 ,  6784.8052639 ,\n",
       "        7170.8033808 , 13569.824276  ,  2473.579705  , 13891.8855132 ,\n",
       "       26681.1245613 , 48464.4879209 , 11660.4036925 ,  6340.6136805 ,\n",
       "        3051.4388628 , 12954.611098  , 10138.0007921 , 18998.0823285 ,\n",
       "        1665.8771122 , 47735.4071219 , 18587.5467363 , 12759.0926848 ,\n",
       "       14360.7992346 ,  9971.9608759 , 34055.230556  , 39872.9491731 ,\n",
       "        6729.6045434 , 10645.9367722 , 17484.3015122 , 12222.4061236 ,\n",
       "       16644.5520933 , 14533.7942982 , 13695.8302917 , 16437.3560091 ,\n",
       "        9622.0546844 , 10403.3805842 , 19953.5976115 , 48265.8260445 ,\n",
       "       11612.131475  , 48864.9272605 ,  2824.3707169 ,  8312.8591555 ,\n",
       "       41259.2684594 , 19124.1887825 ,  5121.7601065 ,  2718.638272  ,\n",
       "       14910.2841928 , 39071.6603392 , 13211.1005724 , 11089.9129014 ,\n",
       "        3785.5682133 ,  9048.5089457 ,  9564.1881116 ,  6972.0874898 ,\n",
       "       43556.7261649 , 41279.4850994 ,  8086.3816408 , 10835.080165  ,\n",
       "       12420.0869635 ,  5588.2286582 ,  8103.9387557 , 38687.5022539 ,\n",
       "       28241.1892965 ,  3096.489117  , 11060.605959  ,  7366.2048613 ,\n",
       "       11704.355683  , 45764.869551  , 12829.6007166 ,  5185.2648147 ,\n",
       "       11153.7220524 , 34529.4768396 , 47555.283278  ,  7418.8641636 ,\n",
       "        2279.2299232 , 11356.0176298 , 20363.4017061 , 10864.4977937 ,\n",
       "       42226.9503564 , 11292.3211696 , 14064.865877  , 13204.1972649 ,\n",
       "       10050.750472  ,  6438.9684998 , 25421.7507318 , 22839.8262625 ,\n",
       "       48431.232857  ,  2477.548466  , 10291.9182226 ,  3714.7590691 ,\n",
       "        6546.2866289 ,  9986.6788735 , 46531.4404246 , 38207.7721914 ,\n",
       "       23819.6986938 , 12276.2000063 , 23385.6781009 ,  4720.7544267 ,\n",
       "        2325.7873918 , 12250.5068275 ,  9604.6075259 , 11435.6190082 ,\n",
       "        6126.2258988 , 14353.4178537 , 23487.7098231 ,  4970.3220702 ,\n",
       "        1667.5783125 , 12211.0144336 ,  7063.2230503 , 40101.4741855 ,\n",
       "       10763.7168662 ,  3432.5002933 ,  4640.019544  ,  6922.6923336 ,\n",
       "        3179.4500965 ,  3816.62273387, 13134.9000806 , 10981.5394296 ,\n",
       "        7103.1201749 , 13223.195026  , 13830.6858256 ,  9645.429735  ,\n",
       "        4259.8926727 ,  9869.8535732 , 16282.6274549 ,  8170.943431  ,\n",
       "        5202.7522961 ,  2045.65913708,  6140.1042261 ,  7606.0266696 ,\n",
       "        7867.0814832 ,  2405.4927266 ,  5053.896051  ,  6186.92713   ,\n",
       "        6067.9781538 ,  6955.3463042 , 52141.7953128 ,  1717.309944  ,\n",
       "       19036.7330504 ,  6730.4203665 , 11466.857004  ,  3013.2621254 ,\n",
       "        6889.2319259 , 28475.3799807 ,  2818.9673089 ,  2988.6938505 ,\n",
       "       14457.1371052 , 11879.1194889 , 41660.7793335 ,  6433.3248602 ,\n",
       "        5159.6738384 , 25349.8825522 ,  3505.4696852 ,  3699.2168299 ,\n",
       "        8812.4887164 ,  9990.0236602 ,  5862.9040199 ,  4569.9067185 ,\n",
       "       12195.3149752 , 49201.0531896 , 13930.0135532 , 18713.5545933 ,\n",
       "        6104.3170572 , 44783.2165835 ,  8933.3855451 , 13417.1479065 ,\n",
       "        6111.7474684 ,  1342.8521195 , 11813.9252552 , 13677.7257915 ,\n",
       "        8836.5074821 ,  4682.1148869 ,  6555.7149031 ,  9004.8052679 ,\n",
       "        6476.8285198 ,  5759.1077433 , 14879.5379214 ,  6945.1396362 ,\n",
       "        6349.4503167 ,  7708.4283885 , 13224.0874013 ,  9548.6610186 ,\n",
       "       12101.4238894 , 14745.6964398 , 13419.4038772 , 12309.5443768 ,\n",
       "        7475.5542605 ,  5422.2960288 ,  3899.60218103,  9165.2583245 ,\n",
       "       14982.705534  ,  7142.647889  ,  6057.0524699 ,  7449.8136315 ,\n",
       "       13976.0265067 , 34349.5453005 ,  7114.2811901 , 15040.2930928 ,\n",
       "        9166.1809218 , 38291.1547032 ,  8533.2491334 ,  6823.8762134 ,\n",
       "        8848.7750112 , 12182.6390846 ,  5669.2697805 ,  7971.8352671 ,\n",
       "        2489.1776015 ,  7414.9331191 , 23520.6572606 , 46949.0130495 ,\n",
       "        5224.6278803 ,  5025.9946033 ,  6578.58965293,  1690.601701  ,\n",
       "        7667.1026766 ,  3017.02362867,  9522.3682879 ,  6612.1663382 ,\n",
       "        8900.7466524 , 25888.2580312 , 46139.1897475 , 15727.3039913 ,\n",
       "        6385.171876  , 11657.9664065 , 43446.0784602 ,  9988.6326999 ])"
      ]
     },
     "execution_count": 210,
     "metadata": {},
     "output_type": "execute_result"
    }
   ],
   "source": [
    "y_predict_Ran1 = model_Ran1.predict(x_test_scaled)\n",
    "y_predict_Ran1"
   ]
  },
  {
   "cell_type": "code",
   "execution_count": 247,
   "id": "2a7ac312-b94f-4d42-9d77-d5ca708ca21b",
   "metadata": {},
   "outputs": [
    {
     "data": {
      "text/html": [
       "<div>\n",
       "<style scoped>\n",
       "    .dataframe tbody tr th:only-of-type {\n",
       "        vertical-align: middle;\n",
       "    }\n",
       "\n",
       "    .dataframe tbody tr th {\n",
       "        vertical-align: top;\n",
       "    }\n",
       "\n",
       "    .dataframe thead th {\n",
       "        text-align: right;\n",
       "    }\n",
       "</style>\n",
       "<table border=\"1\" class=\"dataframe\">\n",
       "  <thead>\n",
       "    <tr style=\"text-align: right;\">\n",
       "      <th></th>\n",
       "      <th>Classifier</th>\n",
       "      <th>Accuracy</th>\n",
       "    </tr>\n",
       "  </thead>\n",
       "  <tbody>\n",
       "    <tr>\n",
       "      <th>0</th>\n",
       "      <td>Linear</td>\n",
       "      <td>0.798</td>\n",
       "    </tr>\n",
       "    <tr>\n",
       "      <th>1</th>\n",
       "      <td>L1</td>\n",
       "      <td>0.797</td>\n",
       "    </tr>\n",
       "    <tr>\n",
       "      <th>2</th>\n",
       "      <td>L2</td>\n",
       "      <td>0.794</td>\n",
       "    </tr>\n",
       "    <tr>\n",
       "      <th>3</th>\n",
       "      <td>SVM</td>\n",
       "      <td>0.889</td>\n",
       "    </tr>\n",
       "    <tr>\n",
       "      <th>4</th>\n",
       "      <td>Decision Tree</td>\n",
       "      <td>0.679</td>\n",
       "    </tr>\n",
       "    <tr>\n",
       "      <th>5</th>\n",
       "      <td>Random Forest</td>\n",
       "      <td>0.884</td>\n",
       "    </tr>\n",
       "  </tbody>\n",
       "</table>\n",
       "</div>"
      ],
      "text/plain": [
       "      Classifier  Accuracy\n",
       "0         Linear     0.798\n",
       "1             L1     0.797\n",
       "2             L2     0.794\n",
       "3            SVM     0.889\n",
       "4  Decision Tree     0.679\n",
       "5  Random Forest     0.884"
      ]
     },
     "execution_count": 247,
     "metadata": {},
     "output_type": "execute_result"
    }
   ],
   "source": [
    "data = {'Classifier': ['Linear', 'L1', 'L2','SVM','Decision Tree','Random Forest'],\n",
    "        'Accuracy': [0.798, 0.797, 0.794, 0.889, 0.679, 0.884]}\n",
    "df = pd.DataFrame(data)\n",
    "df"
   ]
  },
  {
   "cell_type": "code",
   "execution_count": 201,
   "id": "eb6e2565-6321-44e6-a5e0-8172e8c5ba2a",
   "metadata": {},
   "outputs": [
    {
     "data": {
      "text/html": [
       "<div>\n",
       "<style scoped>\n",
       "    .dataframe tbody tr th:only-of-type {\n",
       "        vertical-align: middle;\n",
       "    }\n",
       "\n",
       "    .dataframe tbody tr th {\n",
       "        vertical-align: top;\n",
       "    }\n",
       "\n",
       "    .dataframe thead th {\n",
       "        text-align: right;\n",
       "    }\n",
       "</style>\n",
       "<table border=\"1\" class=\"dataframe\">\n",
       "  <thead>\n",
       "    <tr style=\"text-align: right;\">\n",
       "      <th></th>\n",
       "      <th>Contentants</th>\n",
       "      <th>Values</th>\n",
       "    </tr>\n",
       "  </thead>\n",
       "  <tbody>\n",
       "    <tr>\n",
       "      <th>0</th>\n",
       "      <td>cofficient1</td>\n",
       "      <td>2.54257019e+02</td>\n",
       "    </tr>\n",
       "    <tr>\n",
       "      <th>1</th>\n",
       "      <td>cofficient2</td>\n",
       "      <td>3.34493926e+02</td>\n",
       "    </tr>\n",
       "    <tr>\n",
       "      <th>2</th>\n",
       "      <td>cofficient3</td>\n",
       "      <td>4.31796806e+02</td>\n",
       "    </tr>\n",
       "    <tr>\n",
       "      <th>3</th>\n",
       "      <td>cofficient4</td>\n",
       "      <td>2.71181618e+02</td>\n",
       "    </tr>\n",
       "    <tr>\n",
       "      <th>4</th>\n",
       "      <td>cofficient5</td>\n",
       "      <td>1.11290912e+01</td>\n",
       "    </tr>\n",
       "    <tr>\n",
       "      <th>5</th>\n",
       "      <td>cofficient6</td>\n",
       "      <td>-2.36218658e+04</td>\n",
       "    </tr>\n",
       "    <tr>\n",
       "      <th>6</th>\n",
       "      <td>Intercetpt</td>\n",
       "      <td>10910.36238383535</td>\n",
       "    </tr>\n",
       "  </tbody>\n",
       "</table>\n",
       "</div>"
      ],
      "text/plain": [
       "   Contentants             Values\n",
       "0  cofficient1     2.54257019e+02\n",
       "1  cofficient2     3.34493926e+02\n",
       "2  cofficient3     4.31796806e+02\n",
       "3  cofficient4     2.71181618e+02\n",
       "4  cofficient5     1.11290912e+01\n",
       "5  cofficient6    -2.36218658e+04\n",
       "6   Intercetpt  10910.36238383535"
      ]
     },
     "execution_count": 201,
     "metadata": {},
     "output_type": "execute_result"
    }
   ],
   "source": [
    "data2 = {'Contentants': ['cofficient1','cofficient2','cofficient3','cofficient4','cofficient5','cofficient6','Intercetpt'],\n",
    "         'Values': ['2.54257019e+02','3.34493926e+02','4.31796806e+02','2.71181618e+02','1.11290912e+01','-2.36218658e+04','10910.36238383535']} \n",
    "df2 = pd.DataFrame(data2)\n",
    "df2"
   ]
  },
  {
   "cell_type": "code",
   "execution_count": 250,
   "id": "59c85e6a-7428-4725-8b80-53760d594953",
   "metadata": {},
   "outputs": [],
   "source": [
    "import pickle\n",
    "pickle.dump(model_svm1,open('model_ML.pkl','wb')) \n",
    "\n"
   ]
  },
  {
   "cell_type": "code",
   "execution_count": null,
   "id": "5d2f62af-1822-4110-aabc-7e5c89696b5c",
   "metadata": {},
   "outputs": [],
   "source": []
  },
  {
   "cell_type": "code",
   "execution_count": null,
   "id": "354b07d8-bf18-482c-a6c6-760163939055",
   "metadata": {},
   "outputs": [],
   "source": []
  },
  {
   "cell_type": "code",
   "execution_count": null,
   "id": "1df09bdc-86b5-48a5-9963-96f706f9a524",
   "metadata": {},
   "outputs": [],
   "source": []
  },
  {
   "cell_type": "code",
   "execution_count": null,
   "id": "4dd95a29-6e82-4d13-ac49-f27828fceba2",
   "metadata": {},
   "outputs": [],
   "source": []
  }
 ],
 "metadata": {
  "kernelspec": {
   "display_name": "Python 3 (ipykernel)",
   "language": "python",
   "name": "python3"
  },
  "language_info": {
   "codemirror_mode": {
    "name": "ipython",
    "version": 3
   },
   "file_extension": ".py",
   "mimetype": "text/x-python",
   "name": "python",
   "nbconvert_exporter": "python",
   "pygments_lexer": "ipython3",
   "version": "3.8.0"
  }
 },
 "nbformat": 4,
 "nbformat_minor": 5
}

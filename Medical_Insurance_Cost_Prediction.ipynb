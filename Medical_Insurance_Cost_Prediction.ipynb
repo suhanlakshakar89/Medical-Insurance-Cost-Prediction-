{
 "cells": [
  {
   "cell_type": "code",
   "execution_count": 567,
   "id": "990ecd87-5207-470e-a1c0-dbcdceecc3ed",
   "metadata": {},
   "outputs": [],
   "source": [
    "import pandas as pd \n",
    "import numpy as np \n",
    "import matplotlib.pyplot as plt   \n",
    "import seaborn as sns\n",
    "import sklearn as an \n"
   ]
  },
  {
   "cell_type": "code",
   "execution_count": 568,
   "id": "fbcaa924-f629-4c83-a0b1-c7137fed350e",
   "metadata": {},
   "outputs": [
    {
     "data": {
      "text/html": [
       "<div>\n",
       "<style scoped>\n",
       "    .dataframe tbody tr th:only-of-type {\n",
       "        vertical-align: middle;\n",
       "    }\n",
       "\n",
       "    .dataframe tbody tr th {\n",
       "        vertical-align: top;\n",
       "    }\n",
       "\n",
       "    .dataframe thead th {\n",
       "        text-align: right;\n",
       "    }\n",
       "</style>\n",
       "<table border=\"1\" class=\"dataframe\">\n",
       "  <thead>\n",
       "    <tr style=\"text-align: right;\">\n",
       "      <th></th>\n",
       "      <th>age</th>\n",
       "      <th>sex</th>\n",
       "      <th>bmi</th>\n",
       "      <th>children</th>\n",
       "      <th>smoker</th>\n",
       "      <th>region</th>\n",
       "      <th>charges</th>\n",
       "    </tr>\n",
       "  </thead>\n",
       "  <tbody>\n",
       "    <tr>\n",
       "      <th>0</th>\n",
       "      <td>19</td>\n",
       "      <td>female</td>\n",
       "      <td>27.900</td>\n",
       "      <td>0</td>\n",
       "      <td>yes</td>\n",
       "      <td>southwest</td>\n",
       "      <td>16884.92400</td>\n",
       "    </tr>\n",
       "    <tr>\n",
       "      <th>1</th>\n",
       "      <td>18</td>\n",
       "      <td>male</td>\n",
       "      <td>33.770</td>\n",
       "      <td>1</td>\n",
       "      <td>no</td>\n",
       "      <td>southeast</td>\n",
       "      <td>1725.55230</td>\n",
       "    </tr>\n",
       "    <tr>\n",
       "      <th>2</th>\n",
       "      <td>28</td>\n",
       "      <td>male</td>\n",
       "      <td>33.000</td>\n",
       "      <td>3</td>\n",
       "      <td>no</td>\n",
       "      <td>southeast</td>\n",
       "      <td>4449.46200</td>\n",
       "    </tr>\n",
       "    <tr>\n",
       "      <th>3</th>\n",
       "      <td>33</td>\n",
       "      <td>male</td>\n",
       "      <td>22.705</td>\n",
       "      <td>0</td>\n",
       "      <td>no</td>\n",
       "      <td>northwest</td>\n",
       "      <td>21984.47061</td>\n",
       "    </tr>\n",
       "    <tr>\n",
       "      <th>4</th>\n",
       "      <td>32</td>\n",
       "      <td>male</td>\n",
       "      <td>28.880</td>\n",
       "      <td>0</td>\n",
       "      <td>no</td>\n",
       "      <td>northwest</td>\n",
       "      <td>3866.85520</td>\n",
       "    </tr>\n",
       "    <tr>\n",
       "      <th>...</th>\n",
       "      <td>...</td>\n",
       "      <td>...</td>\n",
       "      <td>...</td>\n",
       "      <td>...</td>\n",
       "      <td>...</td>\n",
       "      <td>...</td>\n",
       "      <td>...</td>\n",
       "    </tr>\n",
       "    <tr>\n",
       "      <th>1333</th>\n",
       "      <td>50</td>\n",
       "      <td>male</td>\n",
       "      <td>30.970</td>\n",
       "      <td>3</td>\n",
       "      <td>no</td>\n",
       "      <td>northwest</td>\n",
       "      <td>10600.54830</td>\n",
       "    </tr>\n",
       "    <tr>\n",
       "      <th>1334</th>\n",
       "      <td>18</td>\n",
       "      <td>female</td>\n",
       "      <td>31.920</td>\n",
       "      <td>0</td>\n",
       "      <td>no</td>\n",
       "      <td>northeast</td>\n",
       "      <td>2205.98080</td>\n",
       "    </tr>\n",
       "    <tr>\n",
       "      <th>1335</th>\n",
       "      <td>18</td>\n",
       "      <td>female</td>\n",
       "      <td>36.850</td>\n",
       "      <td>0</td>\n",
       "      <td>no</td>\n",
       "      <td>southeast</td>\n",
       "      <td>1629.83350</td>\n",
       "    </tr>\n",
       "    <tr>\n",
       "      <th>1336</th>\n",
       "      <td>21</td>\n",
       "      <td>female</td>\n",
       "      <td>25.800</td>\n",
       "      <td>0</td>\n",
       "      <td>no</td>\n",
       "      <td>southwest</td>\n",
       "      <td>2007.94500</td>\n",
       "    </tr>\n",
       "    <tr>\n",
       "      <th>1337</th>\n",
       "      <td>61</td>\n",
       "      <td>female</td>\n",
       "      <td>29.070</td>\n",
       "      <td>0</td>\n",
       "      <td>yes</td>\n",
       "      <td>northwest</td>\n",
       "      <td>29141.36030</td>\n",
       "    </tr>\n",
       "  </tbody>\n",
       "</table>\n",
       "<p>1338 rows × 7 columns</p>\n",
       "</div>"
      ],
      "text/plain": [
       "      age     sex     bmi  children smoker     region      charges\n",
       "0      19  female  27.900         0    yes  southwest  16884.92400\n",
       "1      18    male  33.770         1     no  southeast   1725.55230\n",
       "2      28    male  33.000         3     no  southeast   4449.46200\n",
       "3      33    male  22.705         0     no  northwest  21984.47061\n",
       "4      32    male  28.880         0     no  northwest   3866.85520\n",
       "...   ...     ...     ...       ...    ...        ...          ...\n",
       "1333   50    male  30.970         3     no  northwest  10600.54830\n",
       "1334   18  female  31.920         0     no  northeast   2205.98080\n",
       "1335   18  female  36.850         0     no  southeast   1629.83350\n",
       "1336   21  female  25.800         0     no  southwest   2007.94500\n",
       "1337   61  female  29.070         0    yes  northwest  29141.36030\n",
       "\n",
       "[1338 rows x 7 columns]"
      ]
     },
     "execution_count": 568,
     "metadata": {},
     "output_type": "execute_result"
    }
   ],
   "source": [
    "medical = pd.read_csv('cost_prediction.csv')\n",
    "medical "
   ]
  },
  {
   "cell_type": "code",
   "execution_count": 569,
   "id": "e1644cb6-d494-4d8f-923e-490165742072",
   "metadata": {},
   "outputs": [
    {
     "data": {
      "text/html": [
       "<div>\n",
       "<style scoped>\n",
       "    .dataframe tbody tr th:only-of-type {\n",
       "        vertical-align: middle;\n",
       "    }\n",
       "\n",
       "    .dataframe tbody tr th {\n",
       "        vertical-align: top;\n",
       "    }\n",
       "\n",
       "    .dataframe thead th {\n",
       "        text-align: right;\n",
       "    }\n",
       "</style>\n",
       "<table border=\"1\" class=\"dataframe\">\n",
       "  <thead>\n",
       "    <tr style=\"text-align: right;\">\n",
       "      <th></th>\n",
       "      <th>age</th>\n",
       "      <th>sex</th>\n",
       "      <th>bmi</th>\n",
       "      <th>children</th>\n",
       "      <th>smoker</th>\n",
       "      <th>region</th>\n",
       "      <th>charges</th>\n",
       "    </tr>\n",
       "  </thead>\n",
       "  <tbody>\n",
       "    <tr>\n",
       "      <th>348</th>\n",
       "      <td>36</td>\n",
       "      <td>female</td>\n",
       "      <td>29.920</td>\n",
       "      <td>1</td>\n",
       "      <td>no</td>\n",
       "      <td>southeast</td>\n",
       "      <td>5478.03680</td>\n",
       "    </tr>\n",
       "    <tr>\n",
       "      <th>316</th>\n",
       "      <td>50</td>\n",
       "      <td>male</td>\n",
       "      <td>32.205</td>\n",
       "      <td>0</td>\n",
       "      <td>no</td>\n",
       "      <td>northwest</td>\n",
       "      <td>8835.26495</td>\n",
       "    </tr>\n",
       "    <tr>\n",
       "      <th>1010</th>\n",
       "      <td>48</td>\n",
       "      <td>female</td>\n",
       "      <td>22.800</td>\n",
       "      <td>0</td>\n",
       "      <td>no</td>\n",
       "      <td>southwest</td>\n",
       "      <td>8269.04400</td>\n",
       "    </tr>\n",
       "    <tr>\n",
       "      <th>565</th>\n",
       "      <td>19</td>\n",
       "      <td>female</td>\n",
       "      <td>30.495</td>\n",
       "      <td>0</td>\n",
       "      <td>no</td>\n",
       "      <td>northwest</td>\n",
       "      <td>2128.43105</td>\n",
       "    </tr>\n",
       "    <tr>\n",
       "      <th>478</th>\n",
       "      <td>21</td>\n",
       "      <td>male</td>\n",
       "      <td>36.850</td>\n",
       "      <td>0</td>\n",
       "      <td>no</td>\n",
       "      <td>southeast</td>\n",
       "      <td>1534.30450</td>\n",
       "    </tr>\n",
       "    <tr>\n",
       "      <th>458</th>\n",
       "      <td>56</td>\n",
       "      <td>male</td>\n",
       "      <td>39.600</td>\n",
       "      <td>0</td>\n",
       "      <td>no</td>\n",
       "      <td>southwest</td>\n",
       "      <td>10601.41200</td>\n",
       "    </tr>\n",
       "  </tbody>\n",
       "</table>\n",
       "</div>"
      ],
      "text/plain": [
       "      age     sex     bmi  children smoker     region      charges\n",
       "348    36  female  29.920         1     no  southeast   5478.03680\n",
       "316    50    male  32.205         0     no  northwest   8835.26495\n",
       "1010   48  female  22.800         0     no  southwest   8269.04400\n",
       "565    19  female  30.495         0     no  northwest   2128.43105\n",
       "478    21    male  36.850         0     no  southeast   1534.30450\n",
       "458    56    male  39.600         0     no  southwest  10601.41200"
      ]
     },
     "execution_count": 569,
     "metadata": {},
     "output_type": "execute_result"
    }
   ],
   "source": [
    "medical.sample(6)"
   ]
  },
  {
   "cell_type": "code",
   "execution_count": 570,
   "id": "d5a5ebbf-4f10-412f-a719-4dd9afdbeb14",
   "metadata": {},
   "outputs": [
    {
     "data": {
      "text/plain": [
       "(1338, 7)"
      ]
     },
     "execution_count": 570,
     "metadata": {},
     "output_type": "execute_result"
    }
   ],
   "source": [
    "medical.shape"
   ]
  },
  {
   "cell_type": "code",
   "execution_count": 571,
   "id": "8b7ecdd6-09a8-4e46-889f-a773abe15498",
   "metadata": {},
   "outputs": [
    {
     "data": {
      "text/plain": [
       "age         0\n",
       "sex         0\n",
       "bmi         0\n",
       "children    0\n",
       "smoker      0\n",
       "region      0\n",
       "charges     0\n",
       "dtype: int64"
      ]
     },
     "execution_count": 571,
     "metadata": {},
     "output_type": "execute_result"
    }
   ],
   "source": [
    "medical.isnull().sum()"
   ]
  },
  {
   "cell_type": "code",
   "execution_count": 572,
   "id": "babb8b40-1375-484b-8feb-288287f9208b",
   "metadata": {},
   "outputs": [
    {
     "name": "stdout",
     "output_type": "stream",
     "text": [
      "<class 'pandas.core.frame.DataFrame'>\n",
      "RangeIndex: 1338 entries, 0 to 1337\n",
      "Data columns (total 7 columns):\n",
      " #   Column    Non-Null Count  Dtype  \n",
      "---  ------    --------------  -----  \n",
      " 0   age       1338 non-null   int64  \n",
      " 1   sex       1338 non-null   object \n",
      " 2   bmi       1338 non-null   float64\n",
      " 3   children  1338 non-null   int64  \n",
      " 4   smoker    1338 non-null   object \n",
      " 5   region    1338 non-null   object \n",
      " 6   charges   1338 non-null   float64\n",
      "dtypes: float64(2), int64(2), object(3)\n",
      "memory usage: 73.3+ KB\n"
     ]
    }
   ],
   "source": [
    "medical.info() "
   ]
  },
  {
   "cell_type": "code",
   "execution_count": 573,
   "id": "820beab9-4586-4f3a-b1fd-8ea0587195a4",
   "metadata": {},
   "outputs": [
    {
     "data": {
      "text/html": [
       "<div>\n",
       "<style scoped>\n",
       "    .dataframe tbody tr th:only-of-type {\n",
       "        vertical-align: middle;\n",
       "    }\n",
       "\n",
       "    .dataframe tbody tr th {\n",
       "        vertical-align: top;\n",
       "    }\n",
       "\n",
       "    .dataframe thead th {\n",
       "        text-align: right;\n",
       "    }\n",
       "</style>\n",
       "<table border=\"1\" class=\"dataframe\">\n",
       "  <thead>\n",
       "    <tr style=\"text-align: right;\">\n",
       "      <th></th>\n",
       "      <th>age</th>\n",
       "      <th>sex</th>\n",
       "      <th>bmi</th>\n",
       "      <th>children</th>\n",
       "      <th>smoker</th>\n",
       "      <th>region</th>\n",
       "      <th>charges</th>\n",
       "    </tr>\n",
       "  </thead>\n",
       "  <tbody>\n",
       "    <tr>\n",
       "      <th>581</th>\n",
       "      <td>19</td>\n",
       "      <td>male</td>\n",
       "      <td>30.59</td>\n",
       "      <td>0</td>\n",
       "      <td>no</td>\n",
       "      <td>northwest</td>\n",
       "      <td>1639.5631</td>\n",
       "    </tr>\n",
       "  </tbody>\n",
       "</table>\n",
       "</div>"
      ],
      "text/plain": [
       "     age   sex    bmi  children smoker     region    charges\n",
       "581   19  male  30.59         0     no  northwest  1639.5631"
      ]
     },
     "execution_count": 573,
     "metadata": {},
     "output_type": "execute_result"
    }
   ],
   "source": [
    "medical[medical.duplicated()]"
   ]
  },
  {
   "cell_type": "code",
   "execution_count": 574,
   "id": "3bd7b13e-1501-48f1-8703-a2a7eaedd479",
   "metadata": {},
   "outputs": [
    {
     "data": {
      "text/plain": [
       "(1337, 7)"
      ]
     },
     "execution_count": 574,
     "metadata": {},
     "output_type": "execute_result"
    }
   ],
   "source": [
    "medical = medical.drop_duplicates(keep='first')\n",
    "medical.shape"
   ]
  },
  {
   "cell_type": "code",
   "execution_count": 575,
   "id": "5cb2dc42-672e-4bb0-8628-e9607731b1f4",
   "metadata": {},
   "outputs": [
    {
     "data": {
      "text/html": [
       "<div>\n",
       "<style scoped>\n",
       "    .dataframe tbody tr th:only-of-type {\n",
       "        vertical-align: middle;\n",
       "    }\n",
       "\n",
       "    .dataframe tbody tr th {\n",
       "        vertical-align: top;\n",
       "    }\n",
       "\n",
       "    .dataframe thead th {\n",
       "        text-align: right;\n",
       "    }\n",
       "</style>\n",
       "<table border=\"1\" class=\"dataframe\">\n",
       "  <thead>\n",
       "    <tr style=\"text-align: right;\">\n",
       "      <th></th>\n",
       "      <th>age</th>\n",
       "      <th>bmi</th>\n",
       "      <th>children</th>\n",
       "      <th>charges</th>\n",
       "    </tr>\n",
       "  </thead>\n",
       "  <tbody>\n",
       "    <tr>\n",
       "      <th>count</th>\n",
       "      <td>1337.000000</td>\n",
       "      <td>1337.000000</td>\n",
       "      <td>1337.000000</td>\n",
       "      <td>1337.000000</td>\n",
       "    </tr>\n",
       "    <tr>\n",
       "      <th>mean</th>\n",
       "      <td>39.222139</td>\n",
       "      <td>30.663452</td>\n",
       "      <td>1.095737</td>\n",
       "      <td>13279.121487</td>\n",
       "    </tr>\n",
       "    <tr>\n",
       "      <th>std</th>\n",
       "      <td>14.044333</td>\n",
       "      <td>6.100468</td>\n",
       "      <td>1.205571</td>\n",
       "      <td>12110.359656</td>\n",
       "    </tr>\n",
       "    <tr>\n",
       "      <th>min</th>\n",
       "      <td>18.000000</td>\n",
       "      <td>15.960000</td>\n",
       "      <td>0.000000</td>\n",
       "      <td>1121.873900</td>\n",
       "    </tr>\n",
       "    <tr>\n",
       "      <th>25%</th>\n",
       "      <td>27.000000</td>\n",
       "      <td>26.290000</td>\n",
       "      <td>0.000000</td>\n",
       "      <td>4746.344000</td>\n",
       "    </tr>\n",
       "    <tr>\n",
       "      <th>50%</th>\n",
       "      <td>39.000000</td>\n",
       "      <td>30.400000</td>\n",
       "      <td>1.000000</td>\n",
       "      <td>9386.161300</td>\n",
       "    </tr>\n",
       "    <tr>\n",
       "      <th>75%</th>\n",
       "      <td>51.000000</td>\n",
       "      <td>34.700000</td>\n",
       "      <td>2.000000</td>\n",
       "      <td>16657.717450</td>\n",
       "    </tr>\n",
       "    <tr>\n",
       "      <th>max</th>\n",
       "      <td>64.000000</td>\n",
       "      <td>53.130000</td>\n",
       "      <td>5.000000</td>\n",
       "      <td>63770.428010</td>\n",
       "    </tr>\n",
       "  </tbody>\n",
       "</table>\n",
       "</div>"
      ],
      "text/plain": [
       "               age          bmi     children       charges\n",
       "count  1337.000000  1337.000000  1337.000000   1337.000000\n",
       "mean     39.222139    30.663452     1.095737  13279.121487\n",
       "std      14.044333     6.100468     1.205571  12110.359656\n",
       "min      18.000000    15.960000     0.000000   1121.873900\n",
       "25%      27.000000    26.290000     0.000000   4746.344000\n",
       "50%      39.000000    30.400000     1.000000   9386.161300\n",
       "75%      51.000000    34.700000     2.000000  16657.717450\n",
       "max      64.000000    53.130000     5.000000  63770.428010"
      ]
     },
     "execution_count": 575,
     "metadata": {},
     "output_type": "execute_result"
    }
   ],
   "source": [
    "medical.describe()"
   ]
  },
  {
   "cell_type": "code",
   "execution_count": 576,
   "id": "9c475912-f673-46e0-b108-385401a22be7",
   "metadata": {},
   "outputs": [
    {
     "name": "stderr",
     "output_type": "stream",
     "text": [
      "C:\\Users\\HP\\AppData\\Local\\Temp\\ipykernel_63248\\3188888305.py:3: UserWarning: \n",
      "\n",
      "`distplot` is a deprecated function and will be removed in seaborn v0.14.0.\n",
      "\n",
      "Please adapt your code to use either `displot` (a figure-level function with\n",
      "similar flexibility) or `histplot` (an axes-level function for histograms).\n",
      "\n",
      "For a guide to updating your code to use the new functions, please see\n",
      "https://gist.github.com/mwaskom/de44147ed2974457ad6372750bbe5751\n",
      "\n",
      "  sns.distplot(medical['age'])\n"
     ]
    },
    {
     "data": {
      "image/png": "[encoded data removed]",
      "text/plain": [
       "<Figure size 600x600 with 1 Axes>"
      ]
     },
     "metadata": {},
     "output_type": "display_data"
    }
   ],
   "source": [
    "sns.set()\n",
    "plt.figure(figsize=(6,6))\n",
    "sns.distplot(medical['age'])\n",
    "plt.title('Age_distribution') \n",
    "plt.savefig('Age_distribution.jpg')\n",
    "plt.show()"
   ]
  },
  {
   "cell_type": "code",
   "execution_count": 577,
   "id": "556e8495-949e-45af-bfaa-698e0034837c",
   "metadata": {},
   "outputs": [
    {
     "name": "stderr",
     "output_type": "stream",
     "text": [
      "C:\\Users\\HP\\AppData\\Local\\Temp\\ipykernel_63248\\1374705347.py:3: UserWarning: \n",
      "\n",
      "`distplot` is a deprecated function and will be removed in seaborn v0.14.0.\n",
      "\n",
      "Please adapt your code to use either `displot` (a figure-level function with\n",
      "similar flexibility) or `histplot` (an axes-level function for histograms).\n",
      "\n",
      "For a guide to updating your code to use the new functions, please see\n",
      "https://gist.github.com/mwaskom/de44147ed2974457ad6372750bbe5751\n",
      "\n",
      "  sns.distplot(medical['bmi'])\n"
     ]
    },
    {
     "data": {
      "image/png": "[encoded data removed]",
      "text/plain": [
       "<Figure size 600x600 with 1 Axes>"
      ]
     },
     "metadata": {},
     "output_type": "display_data"
    }
   ],
   "source": [
    "sns.set()\n",
    "plt.figure(figsize=(6,6))\n",
    "sns.distplot(medical['bmi'])\n",
    "plt.title('BMI_distribution')\n",
    "plt.savefig('BMI_distribution.jpg')\n",
    "plt.show()"
   ]
  },
  {
   "cell_type": "code",
   "execution_count": 578,
   "id": "d595a043-63f6-4726-8540-c45649dab388",
   "metadata": {},
   "outputs": [
    {
     "data": {
      "image/png": "[encoded data removed]",
      "text/plain": [
       "<Figure size 500x500 with 1 Axes>"
      ]
     },
     "metadata": {},
     "output_type": "display_data"
    }
   ],
   "source": [
    "plt.figure(figsize=(5,5))\n",
    "sns.countplot(x = 'sex' , data=medical,hue='sex')\n",
    "plt.title('Sex_Distribution')\n",
    "plt.savefig('sex_ratio.jpg')\n",
    "plt.show()"
   ]
  },
  {
   "cell_type": "code",
   "execution_count": 579,
   "id": "4d1486c8-ffec-4aee-b148-170ebf3ec299",
   "metadata": {},
   "outputs": [
    {
     "data": {
      "text/plain": [
       "sex\n",
       "male      675\n",
       "female    662\n",
       "Name: count, dtype: int64"
      ]
     },
     "execution_count": 579,
     "metadata": {},
     "output_type": "execute_result"
    }
   ],
   "source": [
    "medical['sex'].value_counts()"
   ]
  },
  {
   "cell_type": "code",
   "execution_count": 580,
   "id": "7f1001dc-3ea7-4b92-866f-b7eb1583fd22",
   "metadata": {},
   "outputs": [
    {
     "data": {
      "image/png": "[encoded data removed]",
      "text/plain": [
       "<Figure size 600x600 with 1 Axes>"
      ]
     },
     "metadata": {},
     "output_type": "display_data"
    }
   ],
   "source": [
    "plt.figure(figsize=(6,6))\n",
    "sns.countplot(x = 'children' , data=medical,hue='children')\n",
    "plt.title('Childrens') \n",
    "plt.savefig('Childrens.jpg')\n",
    "plt.show() "
   ]
  },
  {
   "cell_type": "code",
   "execution_count": 581,
   "id": "cf818e78-9b92-4b3c-bdda-1b3cb07c0a2f",
   "metadata": {},
   "outputs": [
    {
     "data": {
      "text/plain": [
       "children\n",
       "0    573\n",
       "1    324\n",
       "2    240\n",
       "3    157\n",
       "4     25\n",
       "5     18\n",
       "Name: count, dtype: int64"
      ]
     },
     "execution_count": 581,
     "metadata": {},
     "output_type": "execute_result"
    }
   ],
   "source": [
    "medical['children'].value_counts()"
   ]
  },
  {
   "cell_type": "code",
   "execution_count": 582,
   "id": "7eb8c32f-5d88-4be2-ba6f-b96300a71e9b",
   "metadata": {},
   "outputs": [
    {
     "data": {
      "image/png": "[encoded data removed]",
      "text/plain": [
       "<Figure size 600x600 with 1 Axes>"
      ]
     },
     "metadata": {},
     "output_type": "display_data"
    }
   ],
   "source": [
    "plt.figure(figsize=(6,6))\n",
    "sns.countplot(x = 'smoker' , data=medical,hue='smoker')\n",
    "plt.title('Ratio_of_Smoker') \n",
    "plt.savefig('Ratio_of_smoker.jpg')\n",
    "plt.show()"
   ]
  },
  {
   "cell_type": "code",
   "execution_count": 583,
   "id": "fa573e63-4e1d-412a-9bb6-1add6f834d80",
   "metadata": {},
   "outputs": [
    {
     "data": {
      "text/plain": [
       "smoker\n",
       "no     1063\n",
       "yes     274\n",
       "Name: count, dtype: int64"
      ]
     },
     "execution_count": 583,
     "metadata": {},
     "output_type": "execute_result"
    }
   ],
   "source": [
    "medical['smoker'].value_counts()"
   ]
  },
  {
   "cell_type": "code",
   "execution_count": 584,
   "id": "5257854d-e034-459f-a6bc-ce9b1d46492a",
   "metadata": {},
   "outputs": [
    {
     "data": {
      "image/png": "[encoded data removed]",
      "text/plain": [
       "<Figure size 600x600 with 1 Axes>"
      ]
     },
     "metadata": {},
     "output_type": "display_data"
    }
   ],
   "source": [
    "plt.figure(figsize=(6,6))\n",
    "sns.countplot(x = 'region' , data=medical,hue='region')\n",
    "plt.title('Region_distribution')\n",
    "plt.savefig('Region_distribution.jpg')\n",
    "plt.show()"
   ]
  },
  {
   "cell_type": "code",
   "execution_count": 718,
   "id": "c6209e1d-f15a-44ce-9faf-08a611b079de",
   "metadata": {},
   "outputs": [
    {
     "data": {
      "text/plain": [
       "region\n",
       "2    364\n",
       "3    325\n",
       "1    324\n",
       "0    324\n",
       "Name: count, dtype: int64"
      ]
     },
     "execution_count": 718,
     "metadata": {},
     "output_type": "execute_result"
    }
   ],
   "source": [
    "medical['region'].value_counts()"
   ]
  },
  {
   "cell_type": "code",
   "execution_count": 719,
   "id": "f62941aa-dd85-4484-8519-4b1b2155f923",
   "metadata": {},
   "outputs": [
    {
     "name": "stderr",
     "output_type": "stream",
     "text": [
      "C:\\Users\\HP\\AppData\\Local\\Temp\\ipykernel_63248\\898384968.py:7: SettingWithCopyWarning: \n",
      "A value is trying to be set on a copy of a slice from a DataFrame.\n",
      "Try using .loc[row_indexer,col_indexer] = value instead\n",
      "\n",
      "See the caveats in the documentation: https://pandas.pydata.org/pandas-docs/stable/user_guide/indexing.html#returning-a-view-versus-a-copy\n",
      "  medical['sex'] =  L1.fit_transform(medical['sex'])\n",
      "C:\\Users\\HP\\AppData\\Local\\Temp\\ipykernel_63248\\898384968.py:8: SettingWithCopyWarning: \n",
      "A value is trying to be set on a copy of a slice from a DataFrame.\n",
      "Try using .loc[row_indexer,col_indexer] = value instead\n",
      "\n",
      "See the caveats in the documentation: https://pandas.pydata.org/pandas-docs/stable/user_guide/indexing.html#returning-a-view-versus-a-copy\n",
      "  medical['smoker'] =  L2.fit_transform(medical['smoker'])\n",
      "C:\\Users\\HP\\AppData\\Local\\Temp\\ipykernel_63248\\898384968.py:9: SettingWithCopyWarning: \n",
      "A value is trying to be set on a copy of a slice from a DataFrame.\n",
      "Try using .loc[row_indexer,col_indexer] = value instead\n",
      "\n",
      "See the caveats in the documentation: https://pandas.pydata.org/pandas-docs/stable/user_guide/indexing.html#returning-a-view-versus-a-copy\n",
      "  medical['region'] = L3.fit_transform(medical['region'])\n"
     ]
    },
    {
     "data": {
      "text/html": [
       "<div>\n",
       "<style scoped>\n",
       "    .dataframe tbody tr th:only-of-type {\n",
       "        vertical-align: middle;\n",
       "    }\n",
       "\n",
       "    .dataframe tbody tr th {\n",
       "        vertical-align: top;\n",
       "    }\n",
       "\n",
       "    .dataframe thead th {\n",
       "        text-align: right;\n",
       "    }\n",
       "</style>\n",
       "<table border=\"1\" class=\"dataframe\">\n",
       "  <thead>\n",
       "    <tr style=\"text-align: right;\">\n",
       "      <th></th>\n",
       "      <th>age</th>\n",
       "      <th>sex</th>\n",
       "      <th>bmi</th>\n",
       "      <th>children</th>\n",
       "      <th>smoker</th>\n",
       "      <th>region</th>\n",
       "      <th>charges</th>\n",
       "    </tr>\n",
       "  </thead>\n",
       "  <tbody>\n",
       "    <tr>\n",
       "      <th>0</th>\n",
       "      <td>19</td>\n",
       "      <td>0</td>\n",
       "      <td>27.900</td>\n",
       "      <td>0</td>\n",
       "      <td>1</td>\n",
       "      <td>3</td>\n",
       "      <td>16884.92400</td>\n",
       "    </tr>\n",
       "    <tr>\n",
       "      <th>1</th>\n",
       "      <td>18</td>\n",
       "      <td>1</td>\n",
       "      <td>33.770</td>\n",
       "      <td>1</td>\n",
       "      <td>0</td>\n",
       "      <td>2</td>\n",
       "      <td>1725.55230</td>\n",
       "    </tr>\n",
       "    <tr>\n",
       "      <th>2</th>\n",
       "      <td>28</td>\n",
       "      <td>1</td>\n",
       "      <td>33.000</td>\n",
       "      <td>3</td>\n",
       "      <td>0</td>\n",
       "      <td>2</td>\n",
       "      <td>4449.46200</td>\n",
       "    </tr>\n",
       "    <tr>\n",
       "      <th>3</th>\n",
       "      <td>33</td>\n",
       "      <td>1</td>\n",
       "      <td>22.705</td>\n",
       "      <td>0</td>\n",
       "      <td>0</td>\n",
       "      <td>1</td>\n",
       "      <td>21984.47061</td>\n",
       "    </tr>\n",
       "    <tr>\n",
       "      <th>4</th>\n",
       "      <td>32</td>\n",
       "      <td>1</td>\n",
       "      <td>28.880</td>\n",
       "      <td>0</td>\n",
       "      <td>0</td>\n",
       "      <td>1</td>\n",
       "      <td>3866.85520</td>\n",
       "    </tr>\n",
       "    <tr>\n",
       "      <th>...</th>\n",
       "      <td>...</td>\n",
       "      <td>...</td>\n",
       "      <td>...</td>\n",
       "      <td>...</td>\n",
       "      <td>...</td>\n",
       "      <td>...</td>\n",
       "      <td>...</td>\n",
       "    </tr>\n",
       "    <tr>\n",
       "      <th>1333</th>\n",
       "      <td>50</td>\n",
       "      <td>1</td>\n",
       "      <td>30.970</td>\n",
       "      <td>3</td>\n",
       "      <td>0</td>\n",
       "      <td>1</td>\n",
       "      <td>10600.54830</td>\n",
       "    </tr>\n",
       "    <tr>\n",
       "      <th>1334</th>\n",
       "      <td>18</td>\n",
       "      <td>0</td>\n",
       "      <td>31.920</td>\n",
       "      <td>0</td>\n",
       "      <td>0</td>\n",
       "      <td>0</td>\n",
       "      <td>2205.98080</td>\n",
       "    </tr>\n",
       "    <tr>\n",
       "      <th>1335</th>\n",
       "      <td>18</td>\n",
       "      <td>0</td>\n",
       "      <td>36.850</td>\n",
       "      <td>0</td>\n",
       "      <td>0</td>\n",
       "      <td>2</td>\n",
       "      <td>1629.83350</td>\n",
       "    </tr>\n",
       "    <tr>\n",
       "      <th>1336</th>\n",
       "      <td>21</td>\n",
       "      <td>0</td>\n",
       "      <td>25.800</td>\n",
       "      <td>0</td>\n",
       "      <td>0</td>\n",
       "      <td>3</td>\n",
       "      <td>2007.94500</td>\n",
       "    </tr>\n",
       "    <tr>\n",
       "      <th>1337</th>\n",
       "      <td>61</td>\n",
       "      <td>0</td>\n",
       "      <td>29.070</td>\n",
       "      <td>0</td>\n",
       "      <td>1</td>\n",
       "      <td>1</td>\n",
       "      <td>29141.36030</td>\n",
       "    </tr>\n",
       "  </tbody>\n",
       "</table>\n",
       "<p>1337 rows × 7 columns</p>\n",
       "</div>"
      ],
      "text/plain": [
       "      age  sex     bmi  children  smoker  region      charges\n",
       "0      19    0  27.900         0       1       3  16884.92400\n",
       "1      18    1  33.770         1       0       2   1725.55230\n",
       "2      28    1  33.000         3       0       2   4449.46200\n",
       "3      33    1  22.705         0       0       1  21984.47061\n",
       "4      32    1  28.880         0       0       1   3866.85520\n",
       "...   ...  ...     ...       ...     ...     ...          ...\n",
       "1333   50    1  30.970         3       0       1  10600.54830\n",
       "1334   18    0  31.920         0       0       0   2205.98080\n",
       "1335   18    0  36.850         0       0       2   1629.83350\n",
       "1336   21    0  25.800         0       0       3   2007.94500\n",
       "1337   61    0  29.070         0       1       1  29141.36030\n",
       "\n",
       "[1337 rows x 7 columns]"
      ]
     },
     "execution_count": 719,
     "metadata": {},
     "output_type": "execute_result"
    }
   ],
   "source": [
    "# Label_Encoding --> for Convert categorical to numerical in or 1 \n",
    "from sklearn.preprocessing import LabelEncoder\n",
    "L1 = LabelEncoder()\n",
    "L2 = LabelEncoder() \n",
    "L3 = LabelEncoder()\n",
    "\n",
    "medical['sex'] =  L1.fit_transform(medical['sex'])\n",
    "medical['smoker'] =  L2.fit_transform(medical['smoker'])\n",
    "medical['region'] = L3.fit_transform(medical['region']) \n",
    "medical"
   ]
  },
  {
   "cell_type": "code",
   "execution_count": 720,
   "id": "175c63d8-89df-4a2f-9f2c-39f38badb78e",
   "metadata": {},
   "outputs": [
    {
     "data": {
      "text/html": [
       "<div>\n",
       "<style scoped>\n",
       "    .dataframe tbody tr th:only-of-type {\n",
       "        vertical-align: middle;\n",
       "    }\n",
       "\n",
       "    .dataframe tbody tr th {\n",
       "        vertical-align: top;\n",
       "    }\n",
       "\n",
       "    .dataframe thead th {\n",
       "        text-align: right;\n",
       "    }\n",
       "</style>\n",
       "<table border=\"1\" class=\"dataframe\">\n",
       "  <thead>\n",
       "    <tr style=\"text-align: right;\">\n",
       "      <th></th>\n",
       "      <th>age</th>\n",
       "      <th>sex</th>\n",
       "      <th>bmi</th>\n",
       "      <th>children</th>\n",
       "      <th>smoker</th>\n",
       "      <th>region</th>\n",
       "      <th>charges</th>\n",
       "    </tr>\n",
       "  </thead>\n",
       "  <tbody>\n",
       "    <tr>\n",
       "      <th>491</th>\n",
       "      <td>61</td>\n",
       "      <td>0</td>\n",
       "      <td>25.080</td>\n",
       "      <td>0</td>\n",
       "      <td>0</td>\n",
       "      <td>2</td>\n",
       "      <td>24513.09126</td>\n",
       "    </tr>\n",
       "    <tr>\n",
       "      <th>1221</th>\n",
       "      <td>40</td>\n",
       "      <td>1</td>\n",
       "      <td>24.970</td>\n",
       "      <td>2</td>\n",
       "      <td>0</td>\n",
       "      <td>2</td>\n",
       "      <td>6593.50830</td>\n",
       "    </tr>\n",
       "    <tr>\n",
       "      <th>1273</th>\n",
       "      <td>35</td>\n",
       "      <td>1</td>\n",
       "      <td>27.610</td>\n",
       "      <td>1</td>\n",
       "      <td>0</td>\n",
       "      <td>2</td>\n",
       "      <td>4747.05290</td>\n",
       "    </tr>\n",
       "    <tr>\n",
       "      <th>548</th>\n",
       "      <td>25</td>\n",
       "      <td>0</td>\n",
       "      <td>28.595</td>\n",
       "      <td>0</td>\n",
       "      <td>0</td>\n",
       "      <td>0</td>\n",
       "      <td>3213.62205</td>\n",
       "    </tr>\n",
       "    <tr>\n",
       "      <th>981</th>\n",
       "      <td>34</td>\n",
       "      <td>1</td>\n",
       "      <td>21.375</td>\n",
       "      <td>0</td>\n",
       "      <td>0</td>\n",
       "      <td>0</td>\n",
       "      <td>4500.33925</td>\n",
       "    </tr>\n",
       "    <tr>\n",
       "      <th>33</th>\n",
       "      <td>63</td>\n",
       "      <td>1</td>\n",
       "      <td>28.310</td>\n",
       "      <td>0</td>\n",
       "      <td>0</td>\n",
       "      <td>1</td>\n",
       "      <td>13770.09790</td>\n",
       "    </tr>\n",
       "  </tbody>\n",
       "</table>\n",
       "</div>"
      ],
      "text/plain": [
       "      age  sex     bmi  children  smoker  region      charges\n",
       "491    61    0  25.080         0       0       2  24513.09126\n",
       "1221   40    1  24.970         2       0       2   6593.50830\n",
       "1273   35    1  27.610         1       0       2   4747.05290\n",
       "548    25    0  28.595         0       0       0   3213.62205\n",
       "981    34    1  21.375         0       0       0   4500.33925\n",
       "33     63    1  28.310         0       0       1  13770.09790"
      ]
     },
     "execution_count": 720,
     "metadata": {},
     "output_type": "execute_result"
    }
   ],
   "source": [
    "medical.sample(6)"
   ]
  },
  {
   "cell_type": "code",
   "execution_count": 721,
   "id": "ca714259-b85b-477a-8d88-a2bfcc2fc7fd",
   "metadata": {},
   "outputs": [
    {
     "data": {
      "text/plain": [
       "0       16884.92400\n",
       "1        1725.55230\n",
       "2        4449.46200\n",
       "3       21984.47061\n",
       "4        3866.85520\n",
       "           ...     \n",
       "1333    10600.54830\n",
       "1334     2205.98080\n",
       "1335     1629.83350\n",
       "1336     2007.94500\n",
       "1337    29141.36030\n",
       "Name: charges, Length: 1337, dtype: float64"
      ]
     },
     "execution_count": 721,
     "metadata": {},
     "output_type": "execute_result"
    }
   ],
   "source": [
    "inputs = medical.drop('charges',axis=1)\n",
    "inputs\n",
    "target = medical['charges'] \n",
    "target"
   ]
  },
  {
   "cell_type": "code",
   "execution_count": 722,
   "id": "8815ea4f-6ed7-4648-9e41-e45f56e90464",
   "metadata": {},
   "outputs": [],
   "source": [
    "from sklearn.model_selection import train_test_split\n",
    "x_train,x_test,y_train,y_test = train_test_split(inputs,target,test_size=0.2,random_state=3)"
   ]
  },
  {
   "cell_type": "code",
   "execution_count": 723,
   "id": "b0a5dd7f-98c5-45db-8b31-393c90efc7cc",
   "metadata": {},
   "outputs": [
    {
     "data": {
      "text/html": [
       "<div>\n",
       "<style scoped>\n",
       "    .dataframe tbody tr th:only-of-type {\n",
       "        vertical-align: middle;\n",
       "    }\n",
       "\n",
       "    .dataframe tbody tr th {\n",
       "        vertical-align: top;\n",
       "    }\n",
       "\n",
       "    .dataframe thead th {\n",
       "        text-align: right;\n",
       "    }\n",
       "</style>\n",
       "<table border=\"1\" class=\"dataframe\">\n",
       "  <thead>\n",
       "    <tr style=\"text-align: right;\">\n",
       "      <th></th>\n",
       "      <th>age</th>\n",
       "      <th>sex</th>\n",
       "      <th>bmi</th>\n",
       "      <th>children</th>\n",
       "      <th>smoker</th>\n",
       "      <th>region</th>\n",
       "    </tr>\n",
       "  </thead>\n",
       "  <tbody>\n",
       "    <tr>\n",
       "      <th>1282</th>\n",
       "      <td>18</td>\n",
       "      <td>0</td>\n",
       "      <td>21.66</td>\n",
       "      <td>0</td>\n",
       "      <td>1</td>\n",
       "      <td>0</td>\n",
       "    </tr>\n",
       "    <tr>\n",
       "      <th>147</th>\n",
       "      <td>51</td>\n",
       "      <td>0</td>\n",
       "      <td>37.73</td>\n",
       "      <td>1</td>\n",
       "      <td>0</td>\n",
       "      <td>2</td>\n",
       "    </tr>\n",
       "    <tr>\n",
       "      <th>921</th>\n",
       "      <td>62</td>\n",
       "      <td>0</td>\n",
       "      <td>33.20</td>\n",
       "      <td>0</td>\n",
       "      <td>0</td>\n",
       "      <td>3</td>\n",
       "    </tr>\n",
       "    <tr>\n",
       "      <th>164</th>\n",
       "      <td>37</td>\n",
       "      <td>1</td>\n",
       "      <td>29.64</td>\n",
       "      <td>0</td>\n",
       "      <td>0</td>\n",
       "      <td>1</td>\n",
       "    </tr>\n",
       "    <tr>\n",
       "      <th>898</th>\n",
       "      <td>18</td>\n",
       "      <td>0</td>\n",
       "      <td>40.26</td>\n",
       "      <td>0</td>\n",
       "      <td>0</td>\n",
       "      <td>2</td>\n",
       "    </tr>\n",
       "    <tr>\n",
       "      <th>...</th>\n",
       "      <td>...</td>\n",
       "      <td>...</td>\n",
       "      <td>...</td>\n",
       "      <td>...</td>\n",
       "      <td>...</td>\n",
       "      <td>...</td>\n",
       "    </tr>\n",
       "    <tr>\n",
       "      <th>790</th>\n",
       "      <td>39</td>\n",
       "      <td>0</td>\n",
       "      <td>41.80</td>\n",
       "      <td>0</td>\n",
       "      <td>0</td>\n",
       "      <td>2</td>\n",
       "    </tr>\n",
       "    <tr>\n",
       "      <th>256</th>\n",
       "      <td>56</td>\n",
       "      <td>1</td>\n",
       "      <td>33.63</td>\n",
       "      <td>0</td>\n",
       "      <td>1</td>\n",
       "      <td>1</td>\n",
       "    </tr>\n",
       "    <tr>\n",
       "      <th>969</th>\n",
       "      <td>39</td>\n",
       "      <td>0</td>\n",
       "      <td>34.32</td>\n",
       "      <td>5</td>\n",
       "      <td>0</td>\n",
       "      <td>2</td>\n",
       "    </tr>\n",
       "    <tr>\n",
       "      <th>953</th>\n",
       "      <td>44</td>\n",
       "      <td>1</td>\n",
       "      <td>30.20</td>\n",
       "      <td>2</td>\n",
       "      <td>1</td>\n",
       "      <td>3</td>\n",
       "    </tr>\n",
       "    <tr>\n",
       "      <th>1274</th>\n",
       "      <td>26</td>\n",
       "      <td>1</td>\n",
       "      <td>27.06</td>\n",
       "      <td>0</td>\n",
       "      <td>1</td>\n",
       "      <td>2</td>\n",
       "    </tr>\n",
       "  </tbody>\n",
       "</table>\n",
       "<p>1069 rows × 6 columns</p>\n",
       "</div>"
      ],
      "text/plain": [
       "      age  sex    bmi  children  smoker  region\n",
       "1282   18    0  21.66         0       1       0\n",
       "147    51    0  37.73         1       0       2\n",
       "921    62    0  33.20         0       0       3\n",
       "164    37    1  29.64         0       0       1\n",
       "898    18    0  40.26         0       0       2\n",
       "...   ...  ...    ...       ...     ...     ...\n",
       "790    39    0  41.80         0       0       2\n",
       "256    56    1  33.63         0       1       1\n",
       "969    39    0  34.32         5       0       2\n",
       "953    44    1  30.20         2       1       3\n",
       "1274   26    1  27.06         0       1       2\n",
       "\n",
       "[1069 rows x 6 columns]"
      ]
     },
     "execution_count": 723,
     "metadata": {},
     "output_type": "execute_result"
    }
   ],
   "source": [
    "x_train"
   ]
  },
  {
   "cell_type": "code",
   "execution_count": 724,
   "id": "0becb7a5-c162-43a0-8450-ffcd86d4840e",
   "metadata": {},
   "outputs": [
    {
     "data": {
      "text/plain": [
       "1282    14283.4594\n",
       "147      9877.6077\n",
       "921     13462.5200\n",
       "164      5028.1466\n",
       "898      1634.5734\n",
       "           ...    \n",
       "790      5662.2250\n",
       "256     43921.1837\n",
       "969      8596.8278\n",
       "953     38998.5460\n",
       "1274    17043.3414\n",
       "Name: charges, Length: 1069, dtype: float64"
      ]
     },
     "execution_count": 724,
     "metadata": {},
     "output_type": "execute_result"
    }
   ],
   "source": [
    "y_train"
   ]
  },
  {
   "cell_type": "code",
   "execution_count": 725,
   "id": "5a3ba483-fe25-437a-bc14-6b432c4c297f",
   "metadata": {},
   "outputs": [
    {
     "data": {
      "text/plain": [
       "0.7606560137229366"
      ]
     },
     "execution_count": 725,
     "metadata": {},
     "output_type": "execute_result"
    }
   ],
   "source": [
    "from sklearn.linear_model import LinearRegression\n",
    "model_reg = LinearRegression()\n",
    "model_reg.fit(x_train,y_train) \n",
    "score_1 = model_reg.score(x_test,y_test) \n",
    "score_1"
   ]
  },
  {
   "cell_type": "code",
   "execution_count": 727,
   "id": "e450038c-66dc-42e6-8ddc-4a4655c732c0",
   "metadata": {},
   "outputs": [
    {
     "data": {
      "text/plain": [
       "array([35102.48869601,  9032.45768574,  1546.22563007, 12459.55815704,\n",
       "       34776.48179965, 26359.59381837, 35892.63350845, 15833.62940125,\n",
       "       34011.51130255, 11421.13523819,  3802.48616359, 11865.91016894,\n",
       "       12123.1507361 , 11785.201568  , 32210.78207427, 16313.74209375,\n",
       "       12515.71904817,  2266.88298332, 16933.43186369, 16126.27127989,\n",
       "       11505.42079844,  4514.10678829, 12443.85897401, 12303.64037889,\n",
       "       23419.17299798, 36501.95892091,  5446.66383043, 27548.29256462,\n",
       "        5175.09528318,  4014.43247268,   513.69541521, 35014.43601013,\n",
       "       37524.6160971 , 11400.75877195,  1637.15688729, 26362.33420256,\n",
       "        8183.71910239,  8111.02702213,  6050.46897011,  3692.23865128,\n",
       "        3839.55971082, 15373.76761335, 14454.07741428, 14387.77535996,\n",
       "        2475.45702698,  3130.5606094 , 10321.85393584,  8864.09132163,\n",
       "        4820.76406988,  6463.41295844,  6587.01811182, 31789.87383609,\n",
       "        2251.41362111,  9797.11297987, 27509.05718866,  5105.42368751,\n",
       "       10420.29443699,  6665.54947732, 16611.82368255, 10288.43003036,\n",
       "       11368.76569003,  9100.42176147, 14196.80958359, 14438.10358278,\n",
       "        7308.65028444,  6715.21527628, 29207.11649116,  6617.86711422,\n",
       "       32158.86964234, 15786.25969865, 11071.33114505,  5145.6424339 ,\n",
       "        9923.07900144,  6675.98651725,  2842.26374098,  8503.49981145,\n",
       "        3238.59045141,  1374.11746974,  -234.27656218,  -853.77508416,\n",
       "        6555.90107788, 37443.98126023, 14504.18855602,  9470.7251638 ,\n",
       "       10863.0372018 ,  9203.00509477, 37262.8322131 ,  7448.40649721,\n",
       "       31215.80753018, 35252.06523543, 30503.98742482, 34479.56929769,\n",
       "       14132.74279998, 13695.63070703, 28265.36110175,  9701.19294394,\n",
       "       10218.09217468, 32330.6437056 ,  5873.60477842, 27508.08488507,\n",
       "       25216.14203966, 11420.05968286,  6462.55289884,  6540.88748109,\n",
       "       30505.66508208,  9537.30078495, 11394.24575728,  5558.12485608,\n",
       "       12136.73763716,  8166.8975985 , 39556.45859985, 39785.0485712 ,\n",
       "        6176.97214015,  7345.16735698, 35127.11347567, 10681.7040182 ,\n",
       "        8663.99472437, 37193.16061744, 12852.04060948, 10919.74686908,\n",
       "        5901.30477219, 29062.0012451 ,  7506.42648465, 11359.43167141,\n",
       "       14759.29207263, 11666.70525552, 13649.37784711,  5657.73412198,\n",
       "        9014.01902813,  6712.12372501, 10270.42292084,  5519.66309302,\n",
       "       28089.77745092,  1841.47772641,  4368.75542658, 15821.37203657,\n",
       "        5251.33152392, 12498.45390064, 30433.92966955, 40403.82545947,\n",
       "       11043.77587199, 16505.39726585, 30019.64876463,  5478.92942426,\n",
       "       11740.33335317,  7755.10954651,  9558.75503606,  5978.47594868,\n",
       "       36661.85329057,  1659.48794591,  6788.69528492, 13254.19661993,\n",
       "       39684.67441967,  7307.62703039, 10645.57472105,  6382.49302002,\n",
       "        3088.7194961 ,  6551.53226107,  3493.81947254,  6122.7196271 ,\n",
       "        1595.64377867, 10890.10801173, 10696.61166583,  8824.52838217,\n",
       "       28520.16627335, 39575.64413722, 37176.32898255,  5366.8918077 ,\n",
       "       32244.68728664,  7246.14610666, 28051.87664291,  3352.9425547 ,\n",
       "        1342.95197069, 12555.71374778,  9179.47876741,  8896.35331803,\n",
       "       27826.70336295,  5393.46292036, 12526.54166979,  8590.97429063,\n",
       "       37442.77307974, 11212.23913589, 28955.17434371,  9498.44656745,\n",
       "        3341.40164097,  4649.86268632,  5277.45532923,  4467.54153284,\n",
       "       31073.68579686,  3250.16984504,  1536.86727502,  7094.42047826,\n",
       "       17847.83515109,  2353.15589894, 10118.09340757, 10085.40018518,\n",
       "       33202.68901944, -1240.51874857, 15360.03871568,  2904.59473909,\n",
       "        3245.39542331,  5551.66443434, 34231.53966746,  8192.06362776,\n",
       "        5020.13493229,  3152.89166802,  9519.76207058, 14864.89837589,\n",
       "       12242.2175834 ,  2687.42866548,  7760.28248837,   916.8361469 ,\n",
       "        6540.28251459,  7566.16770337,  4520.0076587 ,  5486.12217154,\n",
       "        3010.34198402, 39150.53177338, -2095.2168914 , 14146.53058542,\n",
       "       11535.24982211, 35950.37525001,  5886.41200088,  4167.04240846,\n",
       "       12390.22422919,  1074.67439824,  1005.83038545,  9536.399438  ,\n",
       "        -988.83423669, 11673.91536448, 27756.90464699, 33513.8463964 ,\n",
       "       15188.68545576, 38837.17458611,  4737.7114683 , 26397.8907712 ,\n",
       "        6827.85089363,  5107.18424157,  5654.08890345, 32989.62911631,\n",
       "        8418.70923068, 12744.61954345, 36132.07447701,  7510.86601935,\n",
       "        3079.39514059, 40129.63811303, 28711.34011187, 11948.23147369,\n",
       "       32045.29255567,  7685.87556463, 10190.19073569, 10818.37203837,\n",
       "       12936.57217762,  9007.49775406,  5452.43925345,  4017.94090779,\n",
       "       26368.43792192,  7063.10273195, 16359.32916153, 10793.31746312,\n",
       "       18464.46314907, 35263.96425527, 37549.47772526,  8114.54175206,\n",
       "        8947.96348543, 11352.11040009,  6577.04316259, 11816.99344344])"
      ]
     },
     "execution_count": 727,
     "metadata": {},
     "output_type": "execute_result"
    }
   ],
   "source": [
    "y_predict = model_reg.predict(x_test)\n",
    "y_predict"
   ]
  },
  {
   "cell_type": "code",
   "execution_count": 728,
   "id": "b43f5588-4434-48c3-9e6d-682f096ab749",
   "metadata": {},
   "outputs": [
    {
     "data": {
      "text/plain": [
       "array([  260.48952177,  -240.47988891,   328.05788482,   464.94225321,\n",
       "       24234.96413859,  -385.97910087])"
      ]
     },
     "execution_count": 728,
     "metadata": {},
     "output_type": "execute_result"
    }
   ],
   "source": [
    "cofficient = model_reg.coef_\n",
    "cofficient \n",
    "\n"
   ]
  },
  {
   "cell_type": "code",
   "execution_count": 686,
   "id": "3cc86c3c-d512-424d-85cf-a03967795a3c",
   "metadata": {},
   "outputs": [
    {
     "data": {
      "text/plain": [
       "-11726.010852193363"
      ]
     },
     "execution_count": 686,
     "metadata": {},
     "output_type": "execute_result"
    }
   ],
   "source": [
    "intercept = model_reg.intercept_\n",
    "intercept\n"
   ]
  },
  {
   "cell_type": "code",
   "execution_count": 687,
   "id": "b77d5ea4-49e4-4d49-8503-ec9dd6d84a2e",
   "metadata": {},
   "outputs": [
    {
     "data": {
      "text/html": [
       "<div>\n",
       "<style scoped>\n",
       "    .dataframe tbody tr th:only-of-type {\n",
       "        vertical-align: middle;\n",
       "    }\n",
       "\n",
       "    .dataframe tbody tr th {\n",
       "        vertical-align: top;\n",
       "    }\n",
       "\n",
       "    .dataframe thead th {\n",
       "        text-align: right;\n",
       "    }\n",
       "</style>\n",
       "<table border=\"1\" class=\"dataframe\">\n",
       "  <thead>\n",
       "    <tr style=\"text-align: right;\">\n",
       "      <th></th>\n",
       "      <th>age</th>\n",
       "      <th>bmi</th>\n",
       "      <th>children</th>\n",
       "      <th>sex_1</th>\n",
       "      <th>smoker_1</th>\n",
       "      <th>region_1</th>\n",
       "      <th>region_2</th>\n",
       "      <th>region_3</th>\n",
       "    </tr>\n",
       "  </thead>\n",
       "  <tbody>\n",
       "    <tr>\n",
       "      <th>0</th>\n",
       "      <td>19.0</td>\n",
       "      <td>27.900</td>\n",
       "      <td>0.0</td>\n",
       "      <td>0.0</td>\n",
       "      <td>1.0</td>\n",
       "      <td>0.0</td>\n",
       "      <td>0.0</td>\n",
       "      <td>1.0</td>\n",
       "    </tr>\n",
       "    <tr>\n",
       "      <th>1</th>\n",
       "      <td>18.0</td>\n",
       "      <td>33.770</td>\n",
       "      <td>1.0</td>\n",
       "      <td>1.0</td>\n",
       "      <td>0.0</td>\n",
       "      <td>0.0</td>\n",
       "      <td>1.0</td>\n",
       "      <td>0.0</td>\n",
       "    </tr>\n",
       "    <tr>\n",
       "      <th>2</th>\n",
       "      <td>28.0</td>\n",
       "      <td>33.000</td>\n",
       "      <td>3.0</td>\n",
       "      <td>1.0</td>\n",
       "      <td>0.0</td>\n",
       "      <td>0.0</td>\n",
       "      <td>1.0</td>\n",
       "      <td>0.0</td>\n",
       "    </tr>\n",
       "    <tr>\n",
       "      <th>3</th>\n",
       "      <td>33.0</td>\n",
       "      <td>22.705</td>\n",
       "      <td>0.0</td>\n",
       "      <td>1.0</td>\n",
       "      <td>0.0</td>\n",
       "      <td>1.0</td>\n",
       "      <td>0.0</td>\n",
       "      <td>0.0</td>\n",
       "    </tr>\n",
       "    <tr>\n",
       "      <th>4</th>\n",
       "      <td>32.0</td>\n",
       "      <td>28.880</td>\n",
       "      <td>0.0</td>\n",
       "      <td>1.0</td>\n",
       "      <td>0.0</td>\n",
       "      <td>1.0</td>\n",
       "      <td>0.0</td>\n",
       "      <td>0.0</td>\n",
       "    </tr>\n",
       "    <tr>\n",
       "      <th>...</th>\n",
       "      <td>...</td>\n",
       "      <td>...</td>\n",
       "      <td>...</td>\n",
       "      <td>...</td>\n",
       "      <td>...</td>\n",
       "      <td>...</td>\n",
       "      <td>...</td>\n",
       "      <td>...</td>\n",
       "    </tr>\n",
       "    <tr>\n",
       "      <th>1332</th>\n",
       "      <td>52.0</td>\n",
       "      <td>44.700</td>\n",
       "      <td>3.0</td>\n",
       "      <td>1.0</td>\n",
       "      <td>0.0</td>\n",
       "      <td>1.0</td>\n",
       "      <td>0.0</td>\n",
       "      <td>0.0</td>\n",
       "    </tr>\n",
       "    <tr>\n",
       "      <th>1333</th>\n",
       "      <td>50.0</td>\n",
       "      <td>30.970</td>\n",
       "      <td>3.0</td>\n",
       "      <td>0.0</td>\n",
       "      <td>0.0</td>\n",
       "      <td>0.0</td>\n",
       "      <td>0.0</td>\n",
       "      <td>0.0</td>\n",
       "    </tr>\n",
       "    <tr>\n",
       "      <th>1334</th>\n",
       "      <td>18.0</td>\n",
       "      <td>31.920</td>\n",
       "      <td>0.0</td>\n",
       "      <td>0.0</td>\n",
       "      <td>0.0</td>\n",
       "      <td>0.0</td>\n",
       "      <td>1.0</td>\n",
       "      <td>0.0</td>\n",
       "    </tr>\n",
       "    <tr>\n",
       "      <th>1335</th>\n",
       "      <td>18.0</td>\n",
       "      <td>36.850</td>\n",
       "      <td>0.0</td>\n",
       "      <td>0.0</td>\n",
       "      <td>0.0</td>\n",
       "      <td>0.0</td>\n",
       "      <td>0.0</td>\n",
       "      <td>1.0</td>\n",
       "    </tr>\n",
       "    <tr>\n",
       "      <th>1336</th>\n",
       "      <td>21.0</td>\n",
       "      <td>25.800</td>\n",
       "      <td>0.0</td>\n",
       "      <td>0.0</td>\n",
       "      <td>1.0</td>\n",
       "      <td>1.0</td>\n",
       "      <td>0.0</td>\n",
       "      <td>0.0</td>\n",
       "    </tr>\n",
       "  </tbody>\n",
       "</table>\n",
       "<p>1336 rows × 8 columns</p>\n",
       "</div>"
      ],
      "text/plain": [
       "       age     bmi  children  sex_1  smoker_1  region_1  region_2  region_3\n",
       "0     19.0  27.900       0.0    0.0       1.0       0.0       0.0       1.0\n",
       "1     18.0  33.770       1.0    1.0       0.0       0.0       1.0       0.0\n",
       "2     28.0  33.000       3.0    1.0       0.0       0.0       1.0       0.0\n",
       "3     33.0  22.705       0.0    1.0       0.0       1.0       0.0       0.0\n",
       "4     32.0  28.880       0.0    1.0       0.0       1.0       0.0       0.0\n",
       "...    ...     ...       ...    ...       ...       ...       ...       ...\n",
       "1332  52.0  44.700       3.0    1.0       0.0       1.0       0.0       0.0\n",
       "1333  50.0  30.970       3.0    0.0       0.0       0.0       0.0       0.0\n",
       "1334  18.0  31.920       0.0    0.0       0.0       0.0       1.0       0.0\n",
       "1335  18.0  36.850       0.0    0.0       0.0       0.0       0.0       1.0\n",
       "1336  21.0  25.800       0.0    0.0       1.0       1.0       0.0       0.0\n",
       "\n",
       "[1336 rows x 8 columns]"
      ]
     },
     "execution_count": 687,
     "metadata": {},
     "output_type": "execute_result"
    }
   ],
   "source": [
    "from sklearn.preprocessing import OneHotEncoder \n",
    "ohe = OneHotEncoder(drop='first', sparse_output=False)\n",
    "for_ohe = inputs[['sex', 'smoker', 'region']]\n",
    "ohe_data = ohe.fit_transform(for_ohe) \n",
    "df1 = pd.DataFrame(ohe_data,columns=ohe.get_feature_names_out(for_ohe.columns)) \n",
    "\n",
    "df2 = inputs.drop(['sex','smoker','region'],axis=1)\n",
    "inputss = pd.concat([df2,df1],axis=1)\n",
    "inputss\n",
    "df = inputss.dropna()\n",
    "df"
   ]
  },
  {
   "cell_type": "code",
   "execution_count": 688,
   "id": "1eb81c8e-edfa-46cf-96ce-06731263d5e8",
   "metadata": {},
   "outputs": [
    {
     "data": {
      "text/plain": [
       "array([[-7.39341854e-01],\n",
       "       [-3.34451134e-01],\n",
       "       [-1.81306794e-01],\n",
       "       [ 1.19627338e+00],\n",
       "       [-5.78135581e-01],\n",
       "       [-1.17473365e+00],\n",
       "       [-1.05511794e+00],\n",
       "       [-1.34270964e+00],\n",
       "       [-1.03782251e+00],\n",
       "       [ 1.07212276e-01],\n",
       "       [-3.07459767e-01],\n",
       "       [ 1.26383233e+00],\n",
       "       [ 9.28597752e-02],\n",
       "       [-3.43924285e-01],\n",
       "       [-7.18075662e-01],\n",
       "       [-2.97159256e-01],\n",
       "       [-6.65775414e-01],\n",
       "       [-6.70216407e-01],\n",
       "       [-8.00074852e-01],\n",
       "       [ 1.42811131e-01],\n",
       "       [-9.81371087e-01],\n",
       "       [-9.39077624e-02],\n",
       "       [-1.03981592e+00],\n",
       "       [-8.28548646e-01],\n",
       "       [-8.40434954e-01],\n",
       "       [-3.95731554e-01],\n",
       "       [-1.08627363e+00],\n",
       "       [-6.79792791e-02],\n",
       "       [-8.46923787e-01],\n",
       "       [ 1.54552150e+00],\n",
       "       [-3.85583672e-01],\n",
       "       [ 2.37523729e+00],\n",
       "       [-4.38076806e-01],\n",
       "       [-2.64118900e-02],\n",
       "       [ 1.12064188e+00],\n",
       "       [ 2.34052072e-01],\n",
       "       [-7.85998837e-02],\n",
       "       [ 1.58697807e+00],\n",
       "       [-5.98329237e-01],\n",
       "       [-9.15367388e-01],\n",
       "       [ 1.30150438e+00],\n",
       "       [-8.48313685e-01],\n",
       "       [-6.94916859e-01],\n",
       "       [ 2.39913628e+00],\n",
       "       [ 1.38110244e+00],\n",
       "       [-1.40246308e-01],\n",
       "       [-2.18489307e-01],\n",
       "       [-2.97489776e-01],\n",
       "       [ 1.06416032e-02],\n",
       "       [-5.86422289e-01],\n",
       "       [ 1.89295292e+00],\n",
       "       [-7.36890387e-01],\n",
       "       [ 1.80041428e+00],\n",
       "       [ 1.85396734e+00],\n",
       "       [ 2.27310038e-01],\n",
       "       [-8.78110553e-01],\n",
       "       [-7.04346700e-01],\n",
       "       [-3.80830959e-01],\n",
       "       [-1.50807449e-01],\n",
       "       [ 2.27555900e+00],\n",
       "       [-2.74468668e-01],\n",
       "       [ 1.01717769e+00],\n",
       "       [-7.03213102e-01],\n",
       "       [ 2.13258857e-01],\n",
       "       [-6.67266784e-01],\n",
       "       [-4.68647381e-01],\n",
       "       [-1.30094162e+00],\n",
       "       [ 1.75963738e+00],\n",
       "       [-1.09172231e+00],\n",
       "       [-2.96081993e-01],\n",
       "       [ 2.04368988e+00],\n",
       "       [-8.42081765e-01],\n",
       "       [-4.24314652e-01],\n",
       "       [ 1.96087444e-01],\n",
       "       [-2.03055586e-01],\n",
       "       [-6.75510467e-02],\n",
       "       [-6.59094428e-01],\n",
       "       [-3.37686506e-01],\n",
       "       [-8.88876016e-01],\n",
       "       [-7.25906672e-01],\n",
       "       [-1.22954109e-01],\n",
       "       [-8.31254390e-01],\n",
       "       [-7.39224420e-01],\n",
       "       [-4.10052455e-01],\n",
       "       [ 1.99112065e+00],\n",
       "       [ 1.48687398e+00],\n",
       "       [ 2.09506848e+00],\n",
       "       [-7.91973128e-01],\n",
       "       [-1.69778993e-01],\n",
       "       [ 1.55491854e+00],\n",
       "       [-2.90305304e-01],\n",
       "       [-6.28521213e-01],\n",
       "       [ 1.16292429e+00],\n",
       "       [-3.77829288e-01],\n",
       "       [-4.72367897e-01],\n",
       "       [-5.42414869e-01],\n",
       "       [-2.99712872e-01],\n",
       "       [-9.76145522e-01],\n",
       "       [-5.18888307e-01],\n",
       "       [ 8.19860098e-02],\n",
       "       [-2.67376626e-02],\n",
       "       [ 2.13976752e+00],\n",
       "       [-6.15542575e-01],\n",
       "       [ 1.70116179e+00],\n",
       "       [-2.94363036e-01],\n",
       "       [-4.68227833e-01],\n",
       "       [-5.00757587e-01],\n",
       "       [-6.21848563e-01],\n",
       "       [ 7.72195657e-02],\n",
       "       [ 2.16367914e+00],\n",
       "       [ 1.94912573e-01],\n",
       "       [-2.68494017e-01],\n",
       "       [-2.90715729e-01],\n",
       "       [ 1.27201277e+00],\n",
       "       [-1.09845757e+00],\n",
       "       [-6.06280055e-01],\n",
       "       [-5.25724128e-01],\n",
       "       [-4.45529405e-01],\n",
       "       [ 1.03699427e-01],\n",
       "       [-1.13772812e-01],\n",
       "       [ 2.04180097e+00],\n",
       "       [-3.73499937e-01],\n",
       "       [-2.36246539e-01],\n",
       "       [-6.67818568e-01],\n",
       "       [-4.90969775e-01],\n",
       "       [-3.69683738e-01],\n",
       "       [ 1.84826274e+00],\n",
       "       [ 1.70262109e+00],\n",
       "       [ 2.36656078e+00],\n",
       "       [-3.00876775e-01],\n",
       "       [ 1.41938376e-01],\n",
       "       [-8.85154312e-01],\n",
       "       [-6.75101746e-01],\n",
       "       [-8.83439037e-01],\n",
       "       [-7.08145620e-01],\n",
       "       [ 1.51702462e+00],\n",
       "       [ 1.55745328e+00],\n",
       "       [-5.23576417e-01],\n",
       "       [ 1.82144914e+00],\n",
       "       [-3.72532679e-01],\n",
       "       [ 5.60986017e-02],\n",
       "       [-2.10079233e-01],\n",
       "       [-1.18179344e+00],\n",
       "       [-7.31949727e-02],\n",
       "       [-7.30204798e-01],\n",
       "       [-4.06245585e-01],\n",
       "       [-6.67096102e-01],\n",
       "       [-9.74450359e-01],\n",
       "       [ 4.69868373e-02],\n",
       "       [ 1.41417725e-03],\n",
       "       [-3.59399936e-01],\n",
       "       [ 1.71712903e+00],\n",
       "       [-1.08839321e+00],\n",
       "       [-5.67070433e-01],\n",
       "       [-6.48842166e-01],\n",
       "       [-1.53925649e-01],\n",
       "       [-4.10075454e-01],\n",
       "       [-1.01088378e+00],\n",
       "       [ 1.90260640e+00],\n",
       "       [-7.75671055e-02],\n",
       "       [-5.02538197e-01],\n",
       "       [-2.06003228e-01],\n",
       "       [-1.51477928e-01],\n",
       "       [-3.95257268e-01],\n",
       "       [-7.15861496e-01],\n",
       "       [-5.45066519e-01],\n",
       "       [ 9.35802431e-01],\n",
       "       [-1.17609306e+00],\n",
       "       [-7.17012310e-01],\n",
       "       [-8.62060721e-01],\n",
       "       [-6.17631007e-01],\n",
       "       [ 1.24367311e+00],\n",
       "       [-3.06530688e-01],\n",
       "       [-7.35366935e-01],\n",
       "       [-7.23366281e-01],\n",
       "       [-5.91663686e-01],\n",
       "       [-7.26106005e-02],\n",
       "       [-7.14564589e-01],\n",
       "       [ 2.29925104e+00],\n",
       "       [-6.38071779e-01],\n",
       "       [-2.98590736e-02],\n",
       "       [-4.80591005e-01],\n",
       "       [-4.94905283e-03],\n",
       "       [-1.21119797e+00],\n",
       "       [-7.30605689e-01],\n",
       "       [-3.22674639e-01],\n",
       "       [ 1.40210542e-01],\n",
       "       [-1.04388712e+00],\n",
       "       [ 1.64911982e+00],\n",
       "       [ 5.23558051e-02],\n",
       "       [ 2.01427754e+00],\n",
       "       [-7.48899725e-01],\n",
       "       [-6.18343019e-01],\n",
       "       [ 1.68720636e+00],\n",
       "       [ 1.34458430e+00],\n",
       "       [-1.05789406e+00],\n",
       "       [-4.50846048e-01],\n",
       "       [-2.92063566e-01],\n",
       "       [-8.24209247e-01],\n",
       "       [ 2.33233816e+00],\n",
       "       [-2.18862442e-02],\n",
       "       [-3.87558746e-01],\n",
       "       [ 2.52699285e-02],\n",
       "       [ 1.44690897e+00],\n",
       "       [ 1.84524642e+00],\n",
       "       [-4.73322740e-01],\n",
       "       [-8.31592984e-01],\n",
       "       [-3.97622053e-01],\n",
       "       [-4.86017536e-01],\n",
       "       [ 1.07126320e+00],\n",
       "       [-2.94386694e-01],\n",
       "       [ 2.44330050e+00],\n",
       "       [ 1.77916188e+00],\n",
       "       [-8.44490121e-01],\n",
       "       [-5.40750326e-01],\n",
       "       [-7.30211891e-01],\n",
       "       [-4.92696353e-01],\n",
       "       [-7.88488355e-01],\n",
       "       [-1.44299689e-02],\n",
       "       [ 1.94834391e+00],\n",
       "       [-2.06715109e-01],\n",
       "       [-5.27926071e-01],\n",
       "       [-5.38971300e-01],\n",
       "       [-2.51339636e-01],\n",
       "       [-2.41205212e-01],\n",
       "       [ 2.65062923e-01],\n",
       "       [ 1.48181409e-01],\n",
       "       [-2.85240043e-01],\n",
       "       [-2.11897755e-01],\n",
       "       [-1.00187146e+00],\n",
       "       [-6.49321720e-01],\n",
       "       [ 2.32029688e+00],\n",
       "       [-1.50666612e-01],\n",
       "       [ 2.46035789e+00],\n",
       "       [ 1.13660037e+00],\n",
       "       [-8.34791226e-01],\n",
       "       [-9.09429445e-02],\n",
       "       [ 1.40305588e+00],\n",
       "       [-1.07039788e+00],\n",
       "       [ 2.17138772e+00],\n",
       "       [-1.03805273e+00],\n",
       "       [-5.74123855e-01],\n",
       "       [-2.38697026e-01],\n",
       "       [ 4.59441305e-01],\n",
       "       [-8.42439345e-01],\n",
       "       [-1.08814139e-01],\n",
       "       [ 4.58760469e-02],\n",
       "       [-8.53403537e-01],\n",
       "       [-4.54691763e-01],\n",
       "       [-4.69315822e-01],\n",
       "       [-1.12647378e+00],\n",
       "       [ 2.32540947e+00],\n",
       "       [-4.31184847e-01],\n",
       "       [-1.85585413e-01],\n",
       "       [-5.28532922e-01],\n",
       "       [-1.16903753e+00],\n",
       "       [ 1.53037503e+00],\n",
       "       [-9.92024363e-01],\n",
       "       [-7.55623889e-01],\n",
       "       [-9.63937591e-01],\n",
       "       [-5.64503824e-01],\n",
       "       [ 1.45577955e+00],\n",
       "       [ 2.29178588e+00],\n",
       "       [-8.82912619e-01],\n",
       "       [-4.81909731e-01],\n",
       "       [-1.05606397e+00],\n",
       "       [ 1.94553405e+00],\n",
       "       [ 1.18832021e-01]])"
      ]
     },
     "execution_count": 688,
     "metadata": {},
     "output_type": "execute_result"
    }
   ],
   "source": [
    "from sklearn.preprocessing import StandardScaler\n",
    "scaler = StandardScaler()\n",
    "x_train_scaled = scaler.fit_transform(x_train)\n",
    "x_train_scaled\n",
    "x_test_scaled = scaler.fit_transform(x_test)\n",
    "x_test_scaled\n",
    "\n",
    "y_train_reshaped = y_train.values.reshape(-1, 1)\n",
    "y_train_scaled = scaler.fit_transform(y_train_reshaped)\n",
    "y_test_reshaped = y_test.values.reshape(-1,1)\n",
    "y_test_scaled = scaler.fit_transform(y_test_reshaped) \n",
    "\n",
    "y_predict_reshaped = y_predict.reshape(-1,1)\n",
    "y_predict_scaled = scaler.fit_transform(y_predict_reshaped)\n",
    "y_predict_scaled"
   ]
  },
  {
   "cell_type": "code",
   "execution_count": 751,
   "id": "ab6d58d5-84c5-497a-b652-49068b2b66f7",
   "metadata": {},
   "outputs": [
    {
     "data": {
      "text/plain": [
       "0.7623496195785905"
      ]
     },
     "execution_count": 751,
     "metadata": {},
     "output_type": "execute_result"
    }
   ],
   "source": [
    "from sklearn.linear_model import Lasso\n",
    "lasso_reg = Lasso(alpha= 50,max_iter=100,tol=0.1)\n",
    "lasso_reg1 = Lasso(alpha= 50,max_iter=100,tol=0.1)\n",
    "lasso_reg.fit(x_train,y_train)\n",
    "lasso_reg.score(x_test,y_test)\n"
   ]
  },
  {
   "cell_type": "code",
   "execution_count": 752,
   "id": "f6b2bc1a-41ef-4ef8-8d7e-18233a98f8b4",
   "metadata": {},
   "outputs": [
    {
     "data": {
      "text/plain": [
       "0.7483169479769061"
      ]
     },
     "execution_count": 752,
     "metadata": {},
     "output_type": "execute_result"
    }
   ],
   "source": [
    "# L2 Regressioin \n",
    "from sklearn.linear_model import Ridge\n",
    "ridge_reg = Ridge(alpha=50,max_iter=100,tol=0.1)\n",
    "ridge_reg.fit(x_train,y_train)\n",
    "ridge_reg.score(x_test,y_test)"
   ]
  },
  {
   "cell_type": "code",
   "execution_count": 753,
   "id": "333e9a14-b633-4bea-a617-c0b6a61faba3",
   "metadata": {},
   "outputs": [
    {
     "data": {
      "text/plain": [
       "0.7618962368079745"
      ]
     },
     "execution_count": 753,
     "metadata": {},
     "output_type": "execute_result"
    }
   ],
   "source": [
    "from sklearn.linear_model import Ridge\n",
    "ridge_reg = Ridge(alpha=50,max_iter=100,tol=0.1) \n",
    "ridge_reg1 = Ridge(alpha=50,max_iter=100,tol=0.1)\n",
    "ridge_reg.fit(x_train,y_train)\n",
    "ridge_reg.score(x_test,y_test) \n",
    "\n",
    "ridge_reg1.fit(x_train_scaled,y_train)\n",
    "ridge_reg1.score(x_test_scaled,y_test)\n"
   ]
  },
  {
   "cell_type": "code",
   "execution_count": 754,
   "id": "e9b9f903-50aa-4ecb-9dee-5ac6c2f08e3c",
   "metadata": {},
   "outputs": [
    {
     "data": {
      "text/plain": [
       "0.7568346937832571"
      ]
     },
     "execution_count": 754,
     "metadata": {},
     "output_type": "execute_result"
    }
   ],
   "source": [
    "from sklearn.tree import DecisionTreeRegressor\n",
    "model_tree = DecisionTreeRegressor()\n",
    "model_tree.fit(x_train, y_train)\n",
    "model_tree.score(x_test,y_test)"
   ]
  },
  {
   "cell_type": "code",
   "execution_count": 755,
   "id": "00d0719f-f597-4fd0-8073-7b511e74d178",
   "metadata": {},
   "outputs": [
    {
     "data": {
      "text/plain": [
       "0.7774333186430353"
      ]
     },
     "execution_count": 755,
     "metadata": {},
     "output_type": "execute_result"
    }
   ],
   "source": [
    "from sklearn import tree \n",
    "model_tree1 = tree.DecisionTreeRegressor()\n",
    "model_tree1.fit(x_train_scaled,y_train_scaled)\n",
    "\n",
    "model_tree1.score(x_test_scaled,y_test_scaled)"
   ]
  },
  {
   "cell_type": "code",
   "execution_count": 756,
   "id": "f46d8fc2-7a7d-4a52-9f58-5358bc148cda",
   "metadata": {},
   "outputs": [
    {
     "name": "stderr",
     "output_type": "stream",
     "text": [
      "d:\\coding notes\\jupyter project\\myenv\\lib\\site-packages\\sklearn\\utils\\validation.py:1183: DataConversionWarning: A column-vector y was passed when a 1d array was expected. Please change the shape of y to (n_samples, ), for example using ravel().\n",
      "  y = column_or_1d(y, warn=True)\n"
     ]
    },
    {
     "data": {
      "text/plain": [
       "0.8588710946381966"
      ]
     },
     "execution_count": 756,
     "metadata": {},
     "output_type": "execute_result"
    }
   ],
   "source": [
    "from sklearn.svm import SVR\n",
    "model_svr1 = SVR(C=10)\n",
    "model_svr1.fit(x_train_scaled,y_train_scaled) \n",
    "model_svr1.score(x_test_scaled,y_test_scaled)\n",
    "\n"
   ]
  },
  {
   "cell_type": "code",
   "execution_count": 757,
   "id": "73c9d928-a544-4dbd-adc2-5ff311b70111",
   "metadata": {},
   "outputs": [
    {
     "data": {
      "text/plain": [
       "0.856051339802619"
      ]
     },
     "execution_count": 757,
     "metadata": {},
     "output_type": "execute_result"
    }
   ],
   "source": [
    "from sklearn.ensemble import RandomForestRegressor\n",
    "model_Ran = RandomForestRegressor()\n",
    "model_Ran.fit(x_train,y_train)\n",
    "model_Ran.score(x_test,y_test)\n"
   ]
  },
  {
   "cell_type": "code",
   "execution_count": 758,
   "id": "2affdb32-0c8c-419c-b7c5-94a859d855eb",
   "metadata": {},
   "outputs": [
    {
     "data": {
      "text/plain": [
       "0.8609428250660651"
      ]
     },
     "execution_count": 758,
     "metadata": {},
     "output_type": "execute_result"
    }
   ],
   "source": [
    "from sklearn.ensemble import RandomForestRegressor\n",
    "model_Ran1 = RandomForestRegressor()\n",
    "model_Ran1.fit(x_train_scaled,y_train)\n",
    "model_Ran1.score(x_test_scaled,y_test)\n",
    "\n"
   ]
  },
  {
   "cell_type": "code",
   "execution_count": 748,
   "id": "75f9d001-2b48-4fbf-bdbf-0cc4e3ca2d8b",
   "metadata": {},
   "outputs": [
    {
     "data": {
      "text/html": [
       "<div>\n",
       "<style scoped>\n",
       "    .dataframe tbody tr th:only-of-type {\n",
       "        vertical-align: middle;\n",
       "    }\n",
       "\n",
       "    .dataframe tbody tr th {\n",
       "        vertical-align: top;\n",
       "    }\n",
       "\n",
       "    .dataframe thead th {\n",
       "        text-align: right;\n",
       "    }\n",
       "</style>\n",
       "<table border=\"1\" class=\"dataframe\">\n",
       "  <thead>\n",
       "    <tr style=\"text-align: right;\">\n",
       "      <th></th>\n",
       "      <th>Contentants</th>\n",
       "      <th>Values</th>\n",
       "    </tr>\n",
       "  </thead>\n",
       "  <tbody>\n",
       "    <tr>\n",
       "      <th>0</th>\n",
       "      <td>cofficient1</td>\n",
       "      <td>260.48952177</td>\n",
       "    </tr>\n",
       "    <tr>\n",
       "      <th>1</th>\n",
       "      <td>cofficient2</td>\n",
       "      <td>-240.47988891</td>\n",
       "    </tr>\n",
       "    <tr>\n",
       "      <th>2</th>\n",
       "      <td>cofficient3</td>\n",
       "      <td>328.05788482</td>\n",
       "    </tr>\n",
       "    <tr>\n",
       "      <th>3</th>\n",
       "      <td>cofficient4</td>\n",
       "      <td>464.94225321</td>\n",
       "    </tr>\n",
       "    <tr>\n",
       "      <th>4</th>\n",
       "      <td>cofficient5</td>\n",
       "      <td>24234.96413859</td>\n",
       "    </tr>\n",
       "    <tr>\n",
       "      <th>5</th>\n",
       "      <td>cofficient6</td>\n",
       "      <td>-385.97910087</td>\n",
       "    </tr>\n",
       "    <tr>\n",
       "      <th>6</th>\n",
       "      <td>Intercetpt</td>\n",
       "      <td>-11726.010852193363</td>\n",
       "    </tr>\n",
       "  </tbody>\n",
       "</table>\n",
       "</div>"
      ],
      "text/plain": [
       "   Contentants               Values\n",
       "0  cofficient1         260.48952177\n",
       "1  cofficient2        -240.47988891\n",
       "2  cofficient3         328.05788482\n",
       "3  cofficient4         464.94225321\n",
       "4  cofficient5       24234.96413859\n",
       "5  cofficient6        -385.97910087\n",
       "6   Intercetpt  -11726.010852193363"
      ]
     },
     "execution_count": 748,
     "metadata": {},
     "output_type": "execute_result"
    }
   ],
   "source": [
    "\n",
    "data2 = {'Contentants': ['cofficient1','cofficient2','cofficient3','cofficient4','cofficient5','cofficient6','Intercetpt'],\n",
    "         'Values': ['260.48952177','-240.47988891','328.05788482','464.94225321','24234.96413859','-385.97910087','-11726.010852193363']} \n",
    "df2 = pd.DataFrame(data2)\n",
    "df2"
   ]
  },
  {
   "cell_type": "code",
   "execution_count": 759,
   "id": "58ef1b61-a51c-43c2-b76c-0a0d3ad85a78",
   "metadata": {},
   "outputs": [
    {
     "data": {
      "text/html": [
       "<div>\n",
       "<style scoped>\n",
       "    .dataframe tbody tr th:only-of-type {\n",
       "        vertical-align: middle;\n",
       "    }\n",
       "\n",
       "    .dataframe tbody tr th {\n",
       "        vertical-align: top;\n",
       "    }\n",
       "\n",
       "    .dataframe thead th {\n",
       "        text-align: right;\n",
       "    }\n",
       "</style>\n",
       "<table border=\"1\" class=\"dataframe\">\n",
       "  <thead>\n",
       "    <tr style=\"text-align: right;\">\n",
       "      <th></th>\n",
       "      <th>Algorithm</th>\n",
       "      <th>Accuracy</th>\n",
       "    </tr>\n",
       "  </thead>\n",
       "  <tbody>\n",
       "    <tr>\n",
       "      <th>0</th>\n",
       "      <td>Linear Rression</td>\n",
       "      <td>0.760</td>\n",
       "    </tr>\n",
       "    <tr>\n",
       "      <th>1</th>\n",
       "      <td>L1(Lasso)</td>\n",
       "      <td>0.761</td>\n",
       "    </tr>\n",
       "    <tr>\n",
       "      <th>2</th>\n",
       "      <td>L2(Ridge)</td>\n",
       "      <td>0.762</td>\n",
       "    </tr>\n",
       "    <tr>\n",
       "      <th>3</th>\n",
       "      <td>Decision Tree</td>\n",
       "      <td>0.775</td>\n",
       "    </tr>\n",
       "    <tr>\n",
       "      <th>4</th>\n",
       "      <td>SVR</td>\n",
       "      <td>0.858</td>\n",
       "    </tr>\n",
       "    <tr>\n",
       "      <th>5</th>\n",
       "      <td>Random Forest</td>\n",
       "      <td>0.860</td>\n",
       "    </tr>\n",
       "  </tbody>\n",
       "</table>\n",
       "</div>"
      ],
      "text/plain": [
       "         Algorithm  Accuracy\n",
       "0  Linear Rression     0.760\n",
       "1        L1(Lasso)     0.761\n",
       "2        L2(Ridge)     0.762\n",
       "3    Decision Tree     0.775\n",
       "4              SVR     0.858\n",
       "5    Random Forest     0.860"
      ]
     },
     "execution_count": 759,
     "metadata": {},
     "output_type": "execute_result"
    }
   ],
   "source": [
    "data = {'Algorithm': ['Linear Rression', 'L1(Lasso)', 'L2(Ridge)','Decision Tree','SVR','Random Forest'],\n",
    "        'Accuracy': [0.760, 0.761, 0.762, 0.775, 0.858, 0.860]}\n",
    "df = pd.DataFrame(data)\n",
    "df"
   ]
  },
  {
   "cell_type": "code",
   "execution_count": 760,
   "id": "b4957c27-c810-43e8-89e6-22c5f4b98ade",
   "metadata": {},
   "outputs": [],
   "source": [
    "import pickle\n",
    "pickle.dump(model_Ran1,open('model_Medical.pkl','wb')) \n",
    "\n"
   ]
  },
  {
   "cell_type": "code",
   "execution_count": null,
   "id": "959a7fe1-fd45-4151-8fe3-72950cc7071d",
   "metadata": {},
   "outputs": [],
   "source": []
  },
  {
   "cell_type": "code",
   "execution_count": null,
   "id": "f990aed6-6e27-4dcf-8d9c-5a7b3399324b",
   "metadata": {},
   "outputs": [],
   "source": []
  },
  {
   "cell_type": "code",
   "execution_count": null,
   "id": "689c01e5-2f4b-4194-ba12-cbd9fb112377",
   "metadata": {},
   "outputs": [],
   "source": []
  },
  {
   "cell_type": "code",
   "execution_count": null,
   "id": "dd2d1537-30ed-430b-87ba-03a151d37385",
   "metadata": {},
   "outputs": [],
   "source": []
  },
  {
   "cell_type": "code",
   "execution_count": null,
   "id": "a0964fc8-509a-438e-8527-bd36b96c71af",
   "metadata": {},
   "outputs": [],
   "source": []
  }
 ],
 "metadata": {
  "kernelspec": {
   "display_name": "Python 3 (ipykernel)",
   "language": "python",
   "name": "python3"
  },
  "language_info": {
   "codemirror_mode": {
    "name": "ipython",
    "version": 3
   },
   "file_extension": ".py",
   "mimetype": "text/x-python",
   "name": "python",
   "nbconvert_exporter": "python",
   "pygments_lexer": "ipython3",
   "version": "3.8.0"
  }
 },
 "nbformat": 4,
 "nbformat_minor": 5
}
